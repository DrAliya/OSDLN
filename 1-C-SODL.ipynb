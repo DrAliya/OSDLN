{
 "cells": [
  {
   "cell_type": "code",
   "execution_count": 13,
   "id": "d6539550",
   "metadata": {},
   "outputs": [
    {
     "name": "stdout",
     "output_type": "stream",
     "text": [
      "Read 10000 rows.\n"
     ]
    },
    {
     "data": {
      "text/html": [
       "<div>\n",
       "<style scoped>\n",
       "    .dataframe tbody tr th:only-of-type {\n",
       "        vertical-align: middle;\n",
       "    }\n",
       "\n",
       "    .dataframe tbody tr th {\n",
       "        vertical-align: top;\n",
       "    }\n",
       "\n",
       "    .dataframe thead th {\n",
       "        text-align: right;\n",
       "    }\n",
       "</style>\n",
       "<table border=\"1\" class=\"dataframe\">\n",
       "  <thead>\n",
       "    <tr style=\"text-align: right;\">\n",
       "      <th></th>\n",
       "      <th>CustomerId</th>\n",
       "      <th>Surname</th>\n",
       "      <th>CreditScore</th>\n",
       "      <th>Exited</th>\n",
       "    </tr>\n",
       "  </thead>\n",
       "  <tbody>\n",
       "    <tr>\n",
       "      <th>0</th>\n",
       "      <td>15634602</td>\n",
       "      <td>Hargrave</td>\n",
       "      <td>619</td>\n",
       "      <td>1</td>\n",
       "    </tr>\n",
       "    <tr>\n",
       "      <th>1</th>\n",
       "      <td>15647311</td>\n",
       "      <td>Hill</td>\n",
       "      <td>608</td>\n",
       "      <td>0</td>\n",
       "    </tr>\n",
       "    <tr>\n",
       "      <th>2</th>\n",
       "      <td>15619304</td>\n",
       "      <td>Onio</td>\n",
       "      <td>502</td>\n",
       "      <td>1</td>\n",
       "    </tr>\n",
       "    <tr>\n",
       "      <th>3</th>\n",
       "      <td>15701354</td>\n",
       "      <td>Boni</td>\n",
       "      <td>699</td>\n",
       "      <td>0</td>\n",
       "    </tr>\n",
       "    <tr>\n",
       "      <th>4</th>\n",
       "      <td>15737888</td>\n",
       "      <td>Mitchell</td>\n",
       "      <td>850</td>\n",
       "      <td>0</td>\n",
       "    </tr>\n",
       "  </tbody>\n",
       "</table>\n",
       "</div>"
      ],
      "text/plain": [
       "   CustomerId   Surname  CreditScore  Exited\n",
       "0    15634602  Hargrave          619       1\n",
       "1    15647311      Hill          608       0\n",
       "2    15619304      Onio          502       1\n",
       "3    15701354      Boni          699       0\n",
       "4    15737888  Mitchell          850       0"
      ]
     },
     "execution_count": 13,
     "metadata": {},
     "output_type": "execute_result"
    }
   ],
   "source": [
    "#Read in KDD99 Data Set¶\n",
    "import pandas as pd\n",
    "\n",
    "df1 = pd.read_csv('Churn_Modelling1.csv')\n",
    "\n",
    "print(\"Read {} rows.\".format(len(df1)))\n",
    "# df = df.sample(frac=0.1, replace=False) # Uncomment this line to sample only 10% of the dataset\n",
    "\n",
    "df1.dropna(inplace=True,axis=1) # For now, just drop NA's (rows with missing values)\n",
    "\n",
    "\n",
    "# display 5 rows\n",
    "df1[0:5]"
   ]
  },
  {
   "cell_type": "code",
   "execution_count": 14,
   "id": "78a1e902",
   "metadata": {},
   "outputs": [],
   "source": [
    "ENCODING = 'utf-8'\n",
    "\n",
    "def expand_categories(values):\n",
    "    result = []\n",
    "    s = values.value_counts()\n",
    "    t = float(len(values))\n",
    "    for v in s.index:\n",
    "        result.append(\"{}:{}%\".format(v,round(100*(s[v]/t),2)))\n",
    "    return \"[{}]\".format(\",\".join(result))\n",
    "        \n",
    "def analyze(df):\n",
    "    print()\n",
    "    cols = df.columns.values\n",
    "    total = float(len(df))\n",
    "\n",
    "    print(\"{} rows\".format(int(total)))\n",
    "    for col in cols:\n",
    "        uniques = df[col].unique()\n",
    "        unique_count = len(uniques)\n",
    "        if unique_count>100:\n",
    "            print(\"** {}:{} ({}%)\".format(col,unique_count,int(((unique_count)/total)*100)))\n",
    "        else:\n",
    "            print(\"** {}:{}\".format(col,expand_categories(df[col])))\n",
    "            expand_categories(df[col])"
   ]
  },
  {
   "cell_type": "code",
   "execution_count": 15,
   "id": "f4611c4e",
   "metadata": {},
   "outputs": [
    {
     "name": "stdout",
     "output_type": "stream",
     "text": [
      "\n",
      "10000 rows\n",
      "** CustomerId:10000 (100%)\n",
      "** Surname:2932 (29%)\n",
      "** CreditScore:460 (4%)\n",
      "** Exited:[0:79.63%,1:20.37%]\n"
     ]
    }
   ],
   "source": [
    "# Analyze KDD-99\n",
    "\n",
    "import pandas as pd\n",
    "import os\n",
    "import numpy as np\n",
    "from sklearn import metrics\n",
    "from scipy.stats import zscore\n",
    "\n",
    "analyze(df1)"
   ]
  },
  {
   "cell_type": "code",
   "execution_count": 16,
   "id": "e4093592",
   "metadata": {},
   "outputs": [],
   "source": [
    "#df = df1.drop('protocol_type', axis=1)\n",
    "\n",
    "# Encode a numeric column as zscores\n",
    "def encode_numeric_zscore(df, name, mean=None, sd=None):\n",
    "    if mean is None:\n",
    "        mean = df[name].mean()\n",
    "\n",
    "    if sd is None:\n",
    "        sd = df[name].std()\n",
    "\n",
    "    df[name] = (df[name] - mean) / sd\n",
    "\n",
    "    \n",
    "# Encode text values to dummy variables(i.e. [1,0,0],[0,1,0],[0,0,1] for red,green,blue)\n",
    "def encode_text_dummy(df, name):\n",
    "    dummies = pd.get_dummies(df[name])\n",
    "    for x in dummies.columns:\n",
    "        dummy_name = f\"{name}-{x}\"\n",
    "        df[dummy_name] = dummies[x]\n",
    "    df.drop(name, axis=1, inplace=True)"
   ]
  },
  {
   "cell_type": "code",
   "execution_count": 17,
   "id": "a7e83011",
   "metadata": {},
   "outputs": [],
   "source": [
    "encode_numeric_zscore(df1, 'CustomerId')\n",
    "encode_numeric_zscore(df1, 'CreditScore')"
   ]
  },
  {
   "cell_type": "code",
   "execution_count": 18,
   "id": "84271d87",
   "metadata": {},
   "outputs": [
    {
     "data": {
      "text/html": [
       "<div>\n",
       "<style scoped>\n",
       "    .dataframe tbody tr th:only-of-type {\n",
       "        vertical-align: middle;\n",
       "    }\n",
       "\n",
       "    .dataframe tbody tr th {\n",
       "        vertical-align: top;\n",
       "    }\n",
       "\n",
       "    .dataframe thead th {\n",
       "        text-align: right;\n",
       "    }\n",
       "</style>\n",
       "<table border=\"1\" class=\"dataframe\">\n",
       "  <thead>\n",
       "    <tr style=\"text-align: right;\">\n",
       "      <th></th>\n",
       "      <th>CustomerId</th>\n",
       "      <th>Surname</th>\n",
       "      <th>CreditScore</th>\n",
       "      <th>Exited</th>\n",
       "    </tr>\n",
       "  </thead>\n",
       "  <tbody>\n",
       "    <tr>\n",
       "      <th>0</th>\n",
       "      <td>-0.783174</td>\n",
       "      <td>Hargrave</td>\n",
       "      <td>-0.326205</td>\n",
       "      <td>1</td>\n",
       "    </tr>\n",
       "    <tr>\n",
       "      <th>1</th>\n",
       "      <td>-0.606504</td>\n",
       "      <td>Hill</td>\n",
       "      <td>-0.440014</td>\n",
       "      <td>0</td>\n",
       "    </tr>\n",
       "    <tr>\n",
       "      <th>2</th>\n",
       "      <td>-0.995835</td>\n",
       "      <td>Onio</td>\n",
       "      <td>-1.536717</td>\n",
       "      <td>1</td>\n",
       "    </tr>\n",
       "    <tr>\n",
       "      <th>3</th>\n",
       "      <td>0.144759</td>\n",
       "      <td>Boni</td>\n",
       "      <td>0.501496</td>\n",
       "      <td>0</td>\n",
       "    </tr>\n",
       "    <tr>\n",
       "      <th>4</th>\n",
       "      <td>0.652626</td>\n",
       "      <td>Mitchell</td>\n",
       "      <td>2.063781</td>\n",
       "      <td>0</td>\n",
       "    </tr>\n",
       "  </tbody>\n",
       "</table>\n",
       "</div>"
      ],
      "text/plain": [
       "   CustomerId   Surname  CreditScore  Exited\n",
       "0   -0.783174  Hargrave    -0.326205       1\n",
       "1   -0.606504      Hill    -0.440014       0\n",
       "2   -0.995835      Onio    -1.536717       1\n",
       "3    0.144759      Boni     0.501496       0\n",
       "4    0.652626  Mitchell     2.063781       0"
      ]
     },
     "execution_count": 18,
     "metadata": {},
     "output_type": "execute_result"
    }
   ],
   "source": [
    "df1[0:5]"
   ]
  },
  {
   "cell_type": "code",
   "execution_count": 28,
   "id": "17ead58f",
   "metadata": {},
   "outputs": [],
   "source": [
    "df1=df1.drop('Surname',axis=1)"
   ]
  },
  {
   "cell_type": "code",
   "execution_count": 29,
   "id": "aa9d2c88",
   "metadata": {},
   "outputs": [],
   "source": [
    "# Convert to numpy - Classification\n",
    "x_columns1 = df1.columns.drop('Exited')\n",
    "x1 = df1[x_columns1].values\n",
    "dummies1 = pd.get_dummies(df1['Exited']) # Classification\n",
    "outcomes1 = dummies1.columns\n",
    "num_classes1 = len(outcomes1)\n",
    "y1 = dummies1.values"
   ]
  },
  {
   "cell_type": "code",
   "execution_count": 30,
   "id": "40ca635b",
   "metadata": {},
   "outputs": [
    {
     "data": {
      "text/plain": [
       "Exited\n",
       "0    7963\n",
       "1    2037\n",
       "Name: Exited, dtype: int64"
      ]
     },
     "execution_count": 30,
     "metadata": {},
     "output_type": "execute_result"
    }
   ],
   "source": [
    "df1.groupby('Exited')['Exited'].count()"
   ]
  },
  {
   "cell_type": "code",
   "execution_count": 31,
   "id": "89df7ade",
   "metadata": {},
   "outputs": [],
   "source": [
    "from sklearn.model_selection import train_test_split\n",
    "\n",
    "x1_train, x1_test, y1_train, y1_test = train_test_split(\n",
    "    x1, y1, test_size=0.25, random_state=42)"
   ]
  },
  {
   "cell_type": "code",
   "execution_count": 33,
   "id": "48e10a7d",
   "metadata": {},
   "outputs": [
    {
     "name": "stdout",
     "output_type": "stream",
     "text": [
      "[[-0.78317426 -0.32620511]\n",
      " [-0.60650379 -0.44001395]\n",
      " [-0.99583497 -1.53671734]\n",
      " ...\n",
      " [-1.47920782  0.60495814]\n",
      " [-0.1193498   1.25677242]\n",
      " [-0.87051556  1.46369759]]\n"
     ]
    }
   ],
   "source": [
    "print(x1)"
   ]
  },
  {
   "cell_type": "code",
   "execution_count": 34,
   "id": "f8f7842b",
   "metadata": {},
   "outputs": [],
   "source": [
    "\n",
    "\n",
    "from sklearn import metrics\n",
    "from IPython.display import display, HTML \n",
    "import tensorflow as tf\n",
    "from tensorflow.keras.models import Sequential\n",
    "from tensorflow.keras.layers import Dense, Activation\n",
    "\n",
    "model = Sequential()\n",
    "model.add(Dense(25, input_dim=x1.shape[1], activation='relu'))\n",
    "model.add(Dense(3, activation='relu'))\n",
    "model.add(Dense(25, activation='relu'))\n",
    "\n",
    "model.add(Dense(x1.shape[1], activation='linear'))(original_branch) \n",
    "model.compile(loss='mean_squared_error', optimizer='adam')\n",
    "\n",
    "################ SAVING THE LAST OUTPUT LAYER ##################\n",
    "\n",
    "from tensorflow.keras.models import Sequential, Model\n",
    "from tensorflow.keras.layers import Dense\n",
    "\n",
    "# Assuming you have already defined your original model as 'model'\n",
    "# and it looks like the one in your previous code\n",
    "\n",
    "# Create a new model with just the last layer\n",
    "last_layer = Dense(x1.shape[1], name='output_layer')(model.layers[-1].output)\n",
    "output_model = Model(inputs=model.input, outputs=last_layer)\n",
    "\n",
    "# Save the last layer model to a file\n",
    "output_model.save('last_layer_model.h5')\n",
    "\n",
    "\n",
    "################## ATTENTION WEIGHTS ########################\n",
    "\n",
    "attention_weights = AttentionLayer()(original_branch)\n",
    "\n",
    "\n",
    "# Merge the attention weights with the new input features\n",
    "merged_input = Concatenate()([attention_weights, input_new])\n",
    "\n"
   ]
  },
  {
   "cell_type": "code",
   "execution_count": 35,
   "id": "5fc1bfc9",
   "metadata": {},
   "outputs": [],
   "source": [
    "\n",
    "# Convert the output into a Pandas dataframe\n",
    "pd1 = pd.DataFrame(x1, columns=['C_output_neuron_{}'.format(i+1) for i in range(x1.shape[1])])\n",
    "\n",
    "# Save the output to a CSV file\n",
    "pd1.to_csv('C_dense_output1.csv', index=False)"
   ]
  },
  {
   "cell_type": "code",
   "execution_count": 36,
   "id": "5878e702",
   "metadata": {},
   "outputs": [
    {
     "name": "stdout",
     "output_type": "stream",
     "text": [
      "Epoch 1/1000\n",
      "235/235 - 1s - loss: 0.5658 - val_loss: 0.5007 - 541ms/epoch - 2ms/step\n",
      "Epoch 2/1000\n",
      "235/235 - 0s - loss: 0.5087 - val_loss: 0.4995 - 185ms/epoch - 789us/step\n",
      "Epoch 3/1000\n",
      "235/235 - 0s - loss: 0.5085 - val_loss: 0.5001 - 189ms/epoch - 806us/step\n",
      "Epoch 4/1000\n",
      "235/235 - 0s - loss: 0.5080 - val_loss: 0.4990 - 185ms/epoch - 789us/step\n",
      "Epoch 5/1000\n",
      "235/235 - 0s - loss: 0.5087 - val_loss: 0.4991 - 188ms/epoch - 802us/step\n",
      "Epoch 6/1000\n",
      "235/235 - 0s - loss: 0.5083 - val_loss: 0.4998 - 188ms/epoch - 802us/step\n",
      "Epoch 7/1000\n",
      "235/235 - 0s - loss: 0.5080 - val_loss: 0.4985 - 187ms/epoch - 795us/step\n",
      "Epoch 7: early stopping\n"
     ]
    },
    {
     "data": {
      "text/plain": [
       "<keras.callbacks.History at 0x7fe7c83c4490>"
      ]
     },
     "execution_count": 36,
     "metadata": {},
     "output_type": "execute_result"
    }
   ],
   "source": [
    "from tensorflow.keras.callbacks import EarlyStopping\n",
    "\n",
    "model = Sequential()\n",
    "model.add(Dense(10, input_dim=x1.shape[1], kernel_initializer='normal', activation='relu'))\n",
    "model.add(Dense(50, input_dim=x1.shape[1], kernel_initializer='normal', activation='relu'))\n",
    "model.add(Dense(10, input_dim=x1.shape[1], kernel_initializer='normal', activation='relu'))\n",
    "model.add(Dense(1, kernel_initializer='normal'))\n",
    "model.add(Dense(y1.shape[1],activation='softmax'))\n",
    "model.compile(loss='categorical_crossentropy', optimizer='adam')\n",
    "monitor = EarlyStopping(monitor='val_loss', min_delta=1e-3, patience=5, verbose=1, mode='auto')\n",
    "model.fit(x1_train,y1_train,validation_data=(x1_test,y1_test),callbacks=[monitor],verbose=2,epochs=1000)"
   ]
  },
  {
   "cell_type": "code",
   "execution_count": 37,
   "id": "dcefe424",
   "metadata": {},
   "outputs": [
    {
     "name": "stdout",
     "output_type": "stream",
     "text": [
      "79/79 [==============================] - 0s 510us/step\n",
      "Validation score: 0.8012\n"
     ]
    }
   ],
   "source": [
    "import numpy as np\n",
    "\n",
    "# Measure accuracy\n",
    "pred = model.predict(x1_test)\n",
    "pred = np.argmax(pred,axis=1)\n",
    "y_eval = np.argmax(y1_test,axis=1)\n",
    "score = metrics.accuracy_score(y_eval, pred)\n",
    "print(\"Validation score: {}\".format(score))"
   ]
  }
 ],
 "metadata": {
  "kernelspec": {
   "display_name": "Python 3 (ipykernel)",
   "language": "python",
   "name": "python3"
  },
  "language_info": {
   "codemirror_mode": {
    "name": "ipython",
    "version": 3
   },
   "file_extension": ".py",
   "mimetype": "text/x-python",
   "name": "python",
   "nbconvert_exporter": "python",
   "pygments_lexer": "ipython3",
   "version": "3.9.16"
  }
 },
 "nbformat": 4,
 "nbformat_minor": 5
}

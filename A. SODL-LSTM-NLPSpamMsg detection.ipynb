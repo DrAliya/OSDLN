{
 "cells": [
  {
   "cell_type": "code",
   "execution_count": 3,
   "id": "784c4f2b",
   "metadata": {},
   "outputs": [],
   "source": [
    "import pandas as pd\n",
    "import numpy as np\n",
    "from tqdm import tqdm\n",
    "from keras.preprocessing.text import Tokenizer\n",
    "tqdm.pandas(desc=\"progress-bar\")\n",
    "from gensim.models import Doc2Vec\n",
    "from sklearn import utils\n",
    "from sklearn.model_selection import train_test_split\n",
    "from keras.utils import pad_sequences\n",
    "from sklearn.linear_model import LogisticRegression\n",
    "from gensim.models.doc2vec import TaggedDocument\n",
    "import re\n",
    "import seaborn as sns\n",
    "import matplotlib.pyplot as plt"
   ]
  },
  {
   "cell_type": "code",
   "execution_count": 4,
   "id": "cbf78982",
   "metadata": {},
   "outputs": [
    {
     "data": {
      "text/html": [
       "<div>\n",
       "<style scoped>\n",
       "    .dataframe tbody tr th:only-of-type {\n",
       "        vertical-align: middle;\n",
       "    }\n",
       "\n",
       "    .dataframe tbody tr th {\n",
       "        vertical-align: top;\n",
       "    }\n",
       "\n",
       "    .dataframe thead th {\n",
       "        text-align: right;\n",
       "    }\n",
       "</style>\n",
       "<table border=\"1\" class=\"dataframe\">\n",
       "  <thead>\n",
       "    <tr style=\"text-align: right;\">\n",
       "      <th></th>\n",
       "      <th>Category</th>\n",
       "      <th>Message</th>\n",
       "    </tr>\n",
       "  </thead>\n",
       "  <tbody>\n",
       "    <tr>\n",
       "      <th>0</th>\n",
       "      <td>ham</td>\n",
       "      <td>Go until jurong point, crazy.. Available only ...</td>\n",
       "    </tr>\n",
       "    <tr>\n",
       "      <th>1</th>\n",
       "      <td>ham</td>\n",
       "      <td>Ok lar... Joking wif u oni...</td>\n",
       "    </tr>\n",
       "    <tr>\n",
       "      <th>2</th>\n",
       "      <td>spam</td>\n",
       "      <td>Free entry in 2 a wkly comp to win FA Cup fina...</td>\n",
       "    </tr>\n",
       "    <tr>\n",
       "      <th>3</th>\n",
       "      <td>ham</td>\n",
       "      <td>U dun say so early hor... U c already then say...</td>\n",
       "    </tr>\n",
       "    <tr>\n",
       "      <th>4</th>\n",
       "      <td>ham</td>\n",
       "      <td>Nah I don't think he goes to usf, he lives aro...</td>\n",
       "    </tr>\n",
       "  </tbody>\n",
       "</table>\n",
       "</div>"
      ],
      "text/plain": [
       "  Category                                            Message\n",
       "0      ham  Go until jurong point, crazy.. Available only ...\n",
       "1      ham                      Ok lar... Joking wif u oni...\n",
       "2     spam  Free entry in 2 a wkly comp to win FA Cup fina...\n",
       "3      ham  U dun say so early hor... U c already then say...\n",
       "4      ham  Nah I don't think he goes to usf, he lives aro..."
      ]
     },
     "execution_count": 4,
     "metadata": {},
     "output_type": "execute_result"
    }
   ],
   "source": [
    "df = pd.read_csv('SPAM text message 20170820 - Data.csv',delimiter=',',encoding='latin-1')\n",
    "df = df[['Category','Message']]\n",
    "df = df[pd.notnull(df['Message'])]\n",
    "df.rename(columns = {'Message':'Message'}, inplace = True)\n",
    "df.head()"
   ]
  },
  {
   "cell_type": "code",
   "execution_count": 5,
   "id": "e57e5ffa",
   "metadata": {},
   "outputs": [
    {
     "data": {
      "text/plain": [
       "(5572, 2)"
      ]
     },
     "execution_count": 5,
     "metadata": {},
     "output_type": "execute_result"
    }
   ],
   "source": [
    "df.shape"
   ]
  },
  {
   "cell_type": "code",
   "execution_count": 6,
   "id": "e2e9e13d",
   "metadata": {},
   "outputs": [
    {
     "data": {
      "text/plain": [
       "87265"
      ]
     },
     "execution_count": 6,
     "metadata": {},
     "output_type": "execute_result"
    }
   ],
   "source": [
    "df.index = range(5572)\n",
    "df['Message'].apply(lambda x: len(x.split(' '))).sum()"
   ]
  },
  {
   "cell_type": "code",
   "execution_count": 9,
   "id": "19929677",
   "metadata": {},
   "outputs": [
    {
     "data": {
      "image/png": "[encoded data removed]",
      "text/plain": [
       "<Figure size 1200x400 with 1 Axes>"
      ]
     },
     "metadata": {},
     "output_type": "display_data"
    }
   ],
   "source": [
    "cnt_pro = df['Category'].value_counts()\n",
    "plt.figure(figsize=(12,4))\n",
    "sns.barplot(x= cnt_pro.index, y=cnt_pro.values, alpha=0.8)\n",
    "plt.ylabel('Number of Occurrences', fontsize=12)\n",
    "plt.xlabel('Category', fontsize=12)\n",
    "plt.xticks(rotation=90)\n",
    "plt.show();"
   ]
  },
  {
   "cell_type": "code",
   "execution_count": 10,
   "id": "1afb4fdd",
   "metadata": {},
   "outputs": [
    {
     "name": "stdout",
     "output_type": "stream",
     "text": [
      "URGENT! You have won a 1 week FREE membership in our Â£100,000 Prize Jackpot! Txt the word: CLAIM to No: 81010 T&C www.dbuk.net LCCLTD POBOX 4403LDNW1A7RW18\n",
      "Message: spam\n"
     ]
    }
   ],
   "source": [
    "\n",
    "\n",
    "def print_message(index):\n",
    "    example = df[df.index == index][['Message', 'Category']].values[0]\n",
    "    if len(example) > 0:\n",
    "        print(example[0])\n",
    "        print('Message:', example[1])\n",
    "print_message(12)\n",
    "\n"
   ]
  },
  {
   "cell_type": "code",
   "execution_count": 11,
   "id": "782e44c5",
   "metadata": {},
   "outputs": [
    {
     "name": "stdout",
     "output_type": "stream",
     "text": [
      "Go until jurong point, crazy.. Available only in bugis n great world la e buffet... Cine there got amore wat...\n",
      "Message: ham\n",
      "URGENT! You have won a 1 week FREE membership in our Â£100,000 Prize Jackpot! Txt the word: CLAIM to No: 81010 T&C www.dbuk.net LCCLTD POBOX 4403LDNW1A7RW18\n",
      "Message: spam\n"
     ]
    }
   ],
   "source": [
    "print_message(0)\n",
    "print_message(12)"
   ]
  },
  {
   "cell_type": "code",
   "execution_count": 12,
   "id": "b7903bb6",
   "metadata": {},
   "outputs": [
    {
     "name": "stderr",
     "output_type": "stream",
     "text": [
      "/var/folders/6_/d50lgm19265fhn6q8znq45040000gn/T/ipykernel_67298/789792783.py:5: MarkupResemblesLocatorWarning: The input looks more like a filename than markup. You may want to open this file and pass the filehandle into Beautiful Soup.\n",
      "  text = BeautifulSoup(text, \"lxml\").text\n"
     ]
    }
   ],
   "source": [
    "\n",
    "\n",
    "#Text Preprocessing Below we define a function to convert text to lower-case and strip punctuation/symbols from words and so on.\n",
    "\n",
    "from bs4 import BeautifulSoup\n",
    "def cleanText(text):\n",
    "    text = BeautifulSoup(text, \"lxml\").text\n",
    "    text = re.sub(r'\\|\\|\\|', r' ', text) \n",
    "    text = re.sub(r'http\\S+', r'<URL>', text)\n",
    "    text = text.lower()\n",
    "    text = text.replace('x', '')\n",
    "    return text\n",
    "df['Message'] = df['Message'].apply(cleanText)\n",
    "\n"
   ]
  },
  {
   "cell_type": "code",
   "execution_count": 14,
   "id": "5f613e65",
   "metadata": {},
   "outputs": [
    {
     "name": "stdout",
     "output_type": "stream",
     "text": [
      "Collecting nltk\n",
      "  Downloading nltk-3.8.1-py3-none-any.whl (1.5 MB)\n",
      "\u001b[2K     \u001b[90m━━━━━━━━━━━━━━━━━━━━━━━━━━━━━━━━━━━━━━━━\u001b[0m \u001b[32m1.5/1.5 MB\u001b[0m \u001b[31m2.5 MB/s\u001b[0m eta \u001b[36m0:00:00\u001b[0ma \u001b[36m0:00:01\u001b[0m0m\n",
      "\u001b[?25hRequirement already satisfied: click in /Users/zaarr/opt/anaconda3/envs/Tensorflow_env/lib/python3.9/site-packages (from nltk) (8.0.4)\n",
      "Requirement already satisfied: joblib in /Users/zaarr/opt/anaconda3/envs/Tensorflow_env/lib/python3.9/site-packages (from nltk) (1.1.1)\n",
      "Requirement already satisfied: tqdm in /Users/zaarr/opt/anaconda3/envs/Tensorflow_env/lib/python3.9/site-packages (from nltk) (4.65.0)\n",
      "Requirement already satisfied: regex>=2021.8.3 in /Users/zaarr/opt/anaconda3/envs/Tensorflow_env/lib/python3.9/site-packages (from nltk) (2022.7.9)\n",
      "Installing collected packages: nltk\n",
      "Successfully installed nltk-3.8.1\n",
      "Note: you may need to restart the kernel to use updated packages.\n"
     ]
    }
   ],
   "source": [
    "pip install nltk"
   ]
  },
  {
   "cell_type": "code",
   "execution_count": 16,
   "id": "4c4a798a",
   "metadata": {},
   "outputs": [
    {
     "name": "stderr",
     "output_type": "stream",
     "text": [
      "/var/folders/6_/d50lgm19265fhn6q8znq45040000gn/T/ipykernel_67298/789792783.py:5: MarkupResemblesLocatorWarning: The input looks more like a filename than markup. You may want to open this file and pass the filehandle into Beautiful Soup.\n",
      "  text = BeautifulSoup(text, \"lxml\").text\n",
      "[nltk_data] Downloading package punkt to /Users/zaarr/nltk_data...\n",
      "[nltk_data]   Unzipping tokenizers/punkt.zip.\n"
     ]
    },
    {
     "name": "stdout",
     "output_type": "stream",
     "text": [
      "Found 5572 unique tokens.\n"
     ]
    }
   ],
   "source": [
    "df['Message'] = df['Message'].apply(cleanText)\n",
    "train, test = train_test_split(df, test_size=0.000001 , random_state=42)\n",
    "import nltk\n",
    "#import nltk\n",
    "nltk.download('punkt')\n",
    "from nltk.corpus import stopwords\n",
    "def tokenize_text(text):\n",
    "    tokens = []\n",
    "    for sent in nltk.sent_tokenize(text):\n",
    "        for word in nltk.word_tokenize(sent):\n",
    "            #if len(word) < 0:\n",
    "            if len(word) <= 0:\n",
    "                continue\n",
    "            tokens.append(word.lower())\n",
    "    return tokens\n",
    "train_tagged = train.apply(\n",
    "    lambda r: TaggedDocument(words=tokenize_text(r['Message']), tags=[r.Category]), axis=1)\n",
    "test_tagged = test.apply(\n",
    "    lambda r: TaggedDocument(words=tokenize_text(r['Message']), tags=[r.Category]), axis=1)\n",
    "\n",
    "# The maximum number of words to be used. (most frequent)\n",
    "max_fatures = 500000\n",
    "\n",
    "# Max number of words in each complaint.\n",
    "MAX_SEQUENCE_LENGTH = 50\n",
    "\n",
    "#tokenizer = Tokenizer(num_words=max_fatures, split=' ')\n",
    "tokenizer = Tokenizer(num_words=max_fatures, split=' ', filters='!\"#$%&()*+,-./:;<=>?@[\\]^_`{|}~', lower=True)\n",
    "tokenizer.fit_on_texts(df['Message'].values)\n",
    "X = tokenizer.texts_to_sequences(df['Message'].values)\n",
    "X = pad_sequences(X)\n",
    "print('Found %s unique tokens.' % len(X))"
   ]
  },
  {
   "cell_type": "code",
   "execution_count": 17,
   "id": "1d1d1faf",
   "metadata": {},
   "outputs": [
    {
     "name": "stdout",
     "output_type": "stream",
     "text": [
      "Shape of data tensor: (5572, 50)\n"
     ]
    }
   ],
   "source": [
    "X = tokenizer.texts_to_sequences(df['Message'].values)\n",
    "X = pad_sequences(X, maxlen=MAX_SEQUENCE_LENGTH)\n",
    "print('Shape of data tensor:', X.shape)"
   ]
  },
  {
   "cell_type": "code",
   "execution_count": 49,
   "id": "9a59a7ce",
   "metadata": {},
   "outputs": [
    {
     "data": {
      "text/plain": [
       "array([TaggedDocument(words=['and', 'also', 'i', \"'ve\", 'sorta', 'blown', 'him', 'off', 'a', 'couple', 'times', 'recently', 'so', 'id', 'rather', 'not', 'tet', 'him', 'out', 'of', 'the', 'blue', 'looking', 'for', 'weed'], tags=['ham']),\n",
       "       TaggedDocument(words=['mmm', 'thats', 'better', 'now', 'i', 'got', 'a', 'roast', 'down', 'me', '!', 'iâ\\x92d', 'b', 'better', 'if', 'i', 'had', 'a', 'few', 'drinks', 'down', 'me', '2', '!', 'good', 'indian', '?'], tags=['ham']),\n",
       "       TaggedDocument(words=['mm', 'have', 'some', 'kanji', 'dont', 'eat', 'anything', 'heavy', 'ok'], tags=['ham']),\n",
       "       ...,\n",
       "       TaggedDocument(words=['prabha', '..', 'i', \"'m\", 'soryda', '..', 'realy', '..', 'frm', 'heart', 'i', \"'m\", 'sory'], tags=['ham']),\n",
       "       TaggedDocument(words=['nt', 'joking', 'seriously', 'i', 'told'], tags=['ham']),\n",
       "       TaggedDocument(words=['did', 'he', 'just', 'say', 'somebody', 'is', 'named', 'tampa'], tags=['ham'])],\n",
       "      dtype=object)"
      ]
     },
     "execution_count": 49,
     "metadata": {},
     "output_type": "execute_result"
    }
   ],
   "source": [
    "#train_tagged.values[2173]\n",
    "train_tagged.values"
   ]
  },
  {
   "cell_type": "code",
   "execution_count": 50,
   "id": "62c8dd9a",
   "metadata": {},
   "outputs": [
    {
     "name": "stderr",
     "output_type": "stream",
     "text": [
      "100%|██████████████████████████████████| 5571/5571 [00:00<00:00, 1239600.40it/s]\n"
     ]
    }
   ],
   "source": [
    "d2v_model = Doc2Vec(dm=1, dm_mean=1, vector_size=20, window=8, min_count=1, workers=1, alpha=0.065, min_alpha=0.065)\n",
    "d2v_model.build_vocab([x for x in tqdm(train_tagged.values)])"
   ]
  },
  {
   "cell_type": "code",
   "execution_count": 51,
   "id": "cb2c7947",
   "metadata": {},
   "outputs": [
    {
     "name": "stderr",
     "output_type": "stream",
     "text": [
      "100%|██████████████████████████████████| 5571/5571 [00:00<00:00, 1582665.10it/s]\n",
      "100%|██████████████████████████████████| 5571/5571 [00:00<00:00, 4934840.04it/s]\n",
      "100%|██████████████████████████████████| 5571/5571 [00:00<00:00, 4819815.92it/s]\n",
      "100%|██████████████████████████████████| 5571/5571 [00:00<00:00, 4934840.04it/s]\n",
      "100%|██████████████████████████████████| 5571/5571 [00:00<00:00, 4955772.55it/s]\n",
      "100%|██████████████████████████████████| 5571/5571 [00:00<00:00, 4890428.54it/s]\n",
      "100%|██████████████████████████████████| 5571/5571 [00:00<00:00, 4930674.74it/s]\n",
      "100%|██████████████████████████████████| 5571/5571 [00:00<00:00, 4913050.38it/s]\n",
      "100%|██████████████████████████████████| 5571/5571 [00:00<00:00, 4827782.56it/s]\n",
      "100%|██████████████████████████████████| 5571/5571 [00:00<00:00, 4921328.47it/s]\n",
      "100%|██████████████████████████████████| 5571/5571 [00:00<00:00, 4811875.53it/s]\n",
      "100%|██████████████████████████████████| 5571/5571 [00:00<00:00, 4939012.38it/s]\n",
      "100%|██████████████████████████████████| 5571/5571 [00:00<00:00, 4643574.64it/s]\n",
      "100%|██████████████████████████████████| 5571/5571 [00:00<00:00, 4607861.88it/s]\n",
      "100%|██████████████████████████████████| 5571/5571 [00:00<00:00, 4761864.19it/s]\n",
      "100%|██████████████████████████████████| 5571/5571 [00:00<00:00, 4790173.76it/s]\n",
      "100%|██████████████████████████████████| 5571/5571 [00:00<00:00, 4693004.13it/s]\n",
      "100%|██████████████████████████████████| 5571/5571 [00:00<00:00, 4925477.99it/s]\n",
      "100%|██████████████████████████████████| 5571/5571 [00:00<00:00, 4934840.04it/s]\n",
      "100%|██████████████████████████████████| 5571/5571 [00:00<00:00, 4925477.99it/s]\n",
      "100%|██████████████████████████████████| 5571/5571 [00:00<00:00, 4848820.83it/s]\n",
      "100%|██████████████████████████████████| 5571/5571 [00:00<00:00, 4942146.27it/s]\n",
      "100%|██████████████████████████████████| 5571/5571 [00:00<00:00, 4909953.26it/s]\n",
      "100%|██████████████████████████████████| 5571/5571 [00:00<00:00, 4926516.46it/s]\n",
      "100%|██████████████████████████████████| 5571/5571 [00:00<00:00, 4934840.04it/s]\n",
      "100%|██████████████████████████████████| 5571/5571 [00:00<00:00, 4951571.86it/s]\n",
      "100%|██████████████████████████████████| 5571/5571 [00:00<00:00, 4930674.74it/s]\n",
      "100%|██████████████████████████████████| 5571/5571 [00:00<00:00, 4925477.99it/s]\n",
      "100%|██████████████████████████████████| 5571/5571 [00:00<00:00, 4902741.83it/s]\n",
      "100%|██████████████████████████████████| 5571/5571 [00:00<00:00, 4946330.99it/s]\n"
     ]
    },
    {
     "name": "stdout",
     "output_type": "stream",
     "text": [
      "CPU times: user 5.77 s, sys: 48.6 ms, total: 5.82 s\n",
      "Wall time: 5.8 s\n"
     ]
    }
   ],
   "source": [
    "%%time\n",
    "for epoch in range(30):\n",
    "    d2v_model.train(utils.shuffle([x for x in tqdm(train_tagged.values)]), total_examples=len(train_tagged.values), epochs=1)\n",
    "    d2v_model.alpha -= 0.002\n",
    "    d2v_model.min_alpha = d2v_model.alpha"
   ]
  },
  {
   "cell_type": "code",
   "execution_count": 52,
   "id": "edb2d275",
   "metadata": {},
   "outputs": [
    {
     "name": "stdout",
     "output_type": "stream",
     "text": [
      "Doc2Vec<dm/m,d20,n5,w8,s0.001>\n",
      "[ -4.71761      2.4872806   -9.748787     2.9440424    7.0818686\n",
      "  -7.771412    -3.397117    -7.0657225   -3.589105     0.22655676\n",
      "   7.8616014    5.9744163   -2.5169072   -0.5701806    1.9913062\n",
      "   0.9375581   -2.7988002  -12.875649    -1.8085363   -2.4935687 ]\n"
     ]
    }
   ],
   "source": [
    "print(d2v_model)\n",
    "# Assuming you want to access the vector for document with index 0\n",
    "doc_vector = d2v_model.dv[1]\n",
    "print(doc_vector)\n"
   ]
  },
  {
   "cell_type": "code",
   "execution_count": 53,
   "id": "63b9cb13",
   "metadata": {},
   "outputs": [
    {
     "name": "stdout",
     "output_type": "stream",
     "text": [
      "2\n"
     ]
    }
   ],
   "source": [
    "#len(d2v_model.wv)\n",
    "#len(d2v_model.wv.vocab)\n",
    "num_document_vectors = len(d2v_model.dv)\n",
    "print(num_document_vectors)\n"
   ]
  },
  {
   "cell_type": "code",
   "execution_count": 54,
   "id": "df4db6cb",
   "metadata": {},
   "outputs": [
    {
     "name": "stdout",
     "output_type": "stream",
     "text": [
      "2\n"
     ]
    }
   ],
   "source": [
    "num_document_vectors = len(d2v_model.dv)\n",
    "print(num_document_vectors)"
   ]
  },
  {
   "cell_type": "code",
   "execution_count": 55,
   "id": "02e01626",
   "metadata": {},
   "outputs": [
    {
     "name": "stdout",
     "output_type": "stream",
     "text": [
      "9361\n"
     ]
    }
   ],
   "source": [
    "vocab_size = len(d2v_model.wv.key_to_index)\n",
    "print(vocab_size)\n"
   ]
  },
  {
   "cell_type": "code",
   "execution_count": 56,
   "id": "5850ff51",
   "metadata": {},
   "outputs": [
    {
     "name": "stdout",
     "output_type": "stream",
     "text": [
      "5571\n"
     ]
    }
   ],
   "source": [
    "num_documents = d2v_model.corpus_count\n",
    "print(num_documents)\n"
   ]
  },
  {
   "cell_type": "code",
   "execution_count": 57,
   "id": "f87b3a20",
   "metadata": {},
   "outputs": [
    {
     "name": "stderr",
     "output_type": "stream",
     "text": [
      "/var/folders/6_/d50lgm19265fhn6q8znq45040000gn/T/ipykernel_67298/1677535227.py:4: DeprecationWarning: Call to deprecated `docvecs` (The `docvecs` property has been renamed `dv`.).\n",
      "  for i, vec in enumerate(d2v_model.docvecs.vectors):\n"
     ]
    }
   ],
   "source": [
    "\n",
    "\n",
    "# save the vectors in a new matrix\n",
    "embedding_matrix = np.zeros((len(d2v_model.wv)+ 1, 20))\n",
    "\n",
    "for i, vec in enumerate(d2v_model.docvecs.vectors):\n",
    "    while i in vec <= 1000:\n",
    "    #print(i)\n",
    "    #print(model.docvecs)\n",
    "          embedding_matrix[i]=vec\n",
    "    #print(vec)\n",
    "    #print(vec[i])\n",
    "\n"
   ]
  },
  {
   "cell_type": "code",
   "execution_count": 58,
   "id": "38968e43",
   "metadata": {},
   "outputs": [
    {
     "name": "stdout",
     "output_type": "stream",
     "text": [
      "[('ham', 0.5191678404808044), ('spam', -0.12146803736686707)]\n"
     ]
    }
   ],
   "source": [
    "#d2v_model.wv.most_similar(positive=['urgent'], topn=10)\n",
    "# Assuming 'urgent' is a word you want to find similar documents for\n",
    "word_vector = d2v_model.wv['hmm']\n",
    "similar_documents = d2v_model.dv.most_similar([word_vector], topn=10)\n",
    "print(similar_documents)\n"
   ]
  },
  {
   "cell_type": "code",
   "execution_count": 59,
   "id": "4e64ac2e",
   "metadata": {},
   "outputs": [
    {
     "data": {
      "text/plain": [
       "[('feellikw', 0.7615731954574585),\n",
       " ('09061749602', 0.7304093241691589),\n",
       " ('reserve', 0.7188398241996765),\n",
       " ('pee', 0.7069921493530273),\n",
       " ('shit.justfound', 0.6999915838241577),\n",
       " ('09058094565', 0.6995113492012024),\n",
       " ('regret', 0.6954028606414795),\n",
       " ('uawake', 0.6947064995765686),\n",
       " ('beneficiary', 0.6944810152053833),\n",
       " ('craigslist', 0.6888985633850098)]"
      ]
     },
     "execution_count": 59,
     "metadata": {},
     "output_type": "execute_result"
    }
   ],
   "source": [
    "d2v_model.wv.most_similar(positive=['urgent'], topn=10)\n"
   ]
  },
  {
   "cell_type": "code",
   "execution_count": 60,
   "id": "9facf19f",
   "metadata": {},
   "outputs": [
    {
     "data": {
      "text/plain": [
       "[('enjoyed', 0.8829786777496338),\n",
       " ('wishing', 0.7337071895599365),\n",
       " ('mojibiola', 0.730329692363739),\n",
       " ('mwahs', 0.7182087898254395),\n",
       " ('burial', 0.7087436318397522),\n",
       " ('missed', 0.7073675990104675),\n",
       " ('attracts', 0.7032373547554016),\n",
       " ('aretaking', 0.7020084857940674),\n",
       " ('practising', 0.6997680068016052),\n",
       " ('regret', 0.6982877254486084)]"
      ]
     },
     "execution_count": 60,
     "metadata": {},
     "output_type": "execute_result"
    }
   ],
   "source": [
    "d2v_model.wv.most_similar(positive=['cherish'], topn=10)"
   ]
  },
  {
   "cell_type": "code",
   "execution_count": 61,
   "id": "2a82aefb",
   "metadata": {},
   "outputs": [
    {
     "data": {
      "text/plain": [
       "[('gay', 0.739388108253479),\n",
       " ('â£1.50p', 0.7275198698043823),\n",
       " ('w8in', 0.6855700612068176),\n",
       " ('secs', 0.6839038133621216),\n",
       " ('02073162414', 0.6711332201957703),\n",
       " ('relocate', 0.6706814169883728),\n",
       " ('4utt', 0.6668498516082764),\n",
       " ('dirty', 0.6665506362915039),\n",
       " ('cleaning', 0.6620139479637146),\n",
       " ('bedreal', 0.6552912592887878)]"
      ]
     },
     "execution_count": 61,
     "metadata": {},
     "output_type": "execute_result"
    }
   ],
   "source": [
    "d2v_model.wv.most_similar(positive=['hot'], topn=10)"
   ]
  },
  {
   "cell_type": "code",
   "execution_count": 62,
   "id": "2c3ec0e6",
   "metadata": {},
   "outputs": [
    {
     "data": {
      "text/plain": [
       "[('whats', 0.692950427532196),\n",
       " ('ecept', 0.6461871862411499),\n",
       " ('deduct', 0.6231467723846436),\n",
       " ('sighs', 0.6195566654205322),\n",
       " ('sender', 0.6124569177627563),\n",
       " ('put', 0.6078450083732605),\n",
       " ('tv/', 0.5963074564933777),\n",
       " ('billing', 0.5915576815605164),\n",
       " ('net', 0.5867791175842285),\n",
       " ('unconsciously', 0.5847325921058655)]"
      ]
     },
     "execution_count": 62,
     "metadata": {},
     "output_type": "execute_result"
    }
   ],
   "source": [
    "d2v_model.wv.most_similar(positive=['enjoy'], topn=10)"
   ]
  },
  {
   "cell_type": "code",
   "execution_count": 63,
   "id": "a01a1ba7",
   "metadata": {},
   "outputs": [
    {
     "data": {
      "text/plain": [
       "[('0796.', 0.7959805727005005),\n",
       " ('0789.', 0.7671586871147156),\n",
       " ('relieved', 0.7529219388961792),\n",
       " ('ru', 0.734414279460907),\n",
       " ('reply.be', 0.7131716012954712),\n",
       " ('heâ\\x92s', 0.6947227716445923),\n",
       " ('videophones', 0.6941127777099609),\n",
       " ('resolution', 0.6904767751693726),\n",
       " ('student', 0.6793217062950134),\n",
       " ('interview', 0.6788327693939209)]"
      ]
     },
     "execution_count": 63,
     "metadata": {},
     "output_type": "execute_result"
    }
   ],
   "source": [
    "d2v_model.wv.most_similar(positive=['congrats'], topn=10)"
   ]
  },
  {
   "cell_type": "code",
   "execution_count": 65,
   "id": "ef242587",
   "metadata": {},
   "outputs": [
    {
     "name": "stdout",
     "output_type": "stream",
     "text": [
      "Model: \"sequential_1\"\n",
      "_________________________________________________________________\n",
      " Layer (type)                Output Shape              Param #   \n",
      "=================================================================\n",
      " embedding (Embedding)       (None, 50, 20)            187240    \n",
      "                                                                 \n",
      " lstm (LSTM)                 (None, 50)                14200     \n",
      "                                                                 \n",
      " dense (Dense)               (None, 2)                 102       \n",
      "                                                                 \n",
      "=================================================================\n",
      "Total params: 201,542\n",
      "Trainable params: 201,542\n",
      "Non-trainable params: 0\n",
      "_________________________________________________________________\n"
     ]
    }
   ],
   "source": [
    "#Create the LSTM Model\n",
    "\n",
    "from keras.models import Sequential\n",
    "from keras.layers import LSTM, Dense, Embedding\n",
    "\n",
    "\n",
    "# init layer\n",
    "model = Sequential()\n",
    "\n",
    "# emmbed word vectors\n",
    "model.add(Embedding(len(d2v_model.wv)+1,20,input_length=X.shape[1],weights=[embedding_matrix],trainable=True))\n",
    "\n",
    "# learn the correlations\n",
    "def split_input(sequence):\n",
    "     return sequence[:-1], tf.reshape(sequence[1:], (-1,1))\n",
    "model.add(LSTM(50,return_sequences=False))\n",
    "model.add(Dense(2,activation=\"softmax\"))\n",
    "\n",
    "# output model skeleton\n",
    "model.summary()\n",
    "model.compile(optimizer=\"adam\",loss=\"binary_crossentropy\",metrics=['acc'])"
   ]
  },
  {
   "cell_type": "code",
   "execution_count": 70,
   "id": "472241c7",
   "metadata": {},
   "outputs": [
    {
     "name": "stdout",
     "output_type": "stream",
     "text": [
      "You must install pydot (`pip install pydot`) and install graphviz (see instructions at https://graphviz.gitlab.io/download/) for plot_model to work.\n"
     ]
    }
   ],
   "source": [
    "from keras.utils import plot_model\n",
    "plot_model(model, to_file='model.png')"
   ]
  },
  {
   "cell_type": "code",
   "execution_count": 69,
   "id": "2c378f4d",
   "metadata": {},
   "outputs": [
    {
     "name": "stdout",
     "output_type": "stream",
     "text": [
      "Requirement already satisfied: graphviz in /Users/zaarr/opt/anaconda3/envs/Tensorflow_env/lib/python3.9/site-packages (0.20.1)\n",
      "Note: you may need to restart the kernel to use updated packages.\n"
     ]
    }
   ],
   "source": [
    "pip install graphviz"
   ]
  },
  {
   "cell_type": "code",
   "execution_count": 71,
   "id": "130d2268",
   "metadata": {},
   "outputs": [
    {
     "name": "stdout",
     "output_type": "stream",
     "text": [
      "(4736, 50) (4736, 2)\n",
      "(836, 50) (836, 2)\n"
     ]
    }
   ],
   "source": [
    "Y = pd.get_dummies(df['Category']).values\n",
    "X_train, X_test, Y_train, Y_test = train_test_split(X,Y, test_size = 0.15, random_state = 42)\n",
    "print(X_train.shape,Y_train.shape)\n",
    "print(X_test.shape,Y_test.shape)"
   ]
  },
  {
   "cell_type": "code",
   "execution_count": 72,
   "id": "e711e4bb",
   "metadata": {},
   "outputs": [
    {
     "name": "stdout",
     "output_type": "stream",
     "text": [
      "Epoch 1/50\n",
      "148/148 - 3s - loss: 0.2892 - acc: 0.9109 - 3s/epoch - 17ms/step\n",
      "Epoch 2/50\n",
      "148/148 - 2s - loss: 0.0576 - acc: 0.9867 - 2s/epoch - 10ms/step\n",
      "Epoch 3/50\n",
      "148/148 - 2s - loss: 0.0239 - acc: 0.9949 - 2s/epoch - 10ms/step\n",
      "Epoch 4/50\n",
      "148/148 - 2s - loss: 0.0149 - acc: 0.9973 - 2s/epoch - 11ms/step\n",
      "Epoch 5/50\n",
      "148/148 - 2s - loss: 0.0073 - acc: 0.9981 - 2s/epoch - 11ms/step\n",
      "Epoch 6/50\n",
      "148/148 - 2s - loss: 0.0054 - acc: 0.9989 - 2s/epoch - 10ms/step\n",
      "Epoch 7/50\n",
      "148/148 - 2s - loss: 0.0037 - acc: 0.9989 - 2s/epoch - 10ms/step\n",
      "Epoch 8/50\n",
      "148/148 - 2s - loss: 0.0019 - acc: 0.9994 - 2s/epoch - 10ms/step\n",
      "Epoch 9/50\n",
      "148/148 - 2s - loss: 0.0012 - acc: 0.9996 - 2s/epoch - 10ms/step\n",
      "Epoch 10/50\n",
      "148/148 - 2s - loss: 8.5834e-04 - acc: 0.9996 - 2s/epoch - 10ms/step\n",
      "Epoch 11/50\n",
      "148/148 - 2s - loss: 6.2585e-04 - acc: 0.9998 - 2s/epoch - 10ms/step\n",
      "Epoch 12/50\n",
      "148/148 - 2s - loss: 4.7600e-04 - acc: 1.0000 - 2s/epoch - 10ms/step\n",
      "Epoch 13/50\n",
      "148/148 - 2s - loss: 3.9832e-04 - acc: 1.0000 - 2s/epoch - 10ms/step\n",
      "Epoch 14/50\n",
      "148/148 - 2s - loss: 2.8924e-04 - acc: 1.0000 - 2s/epoch - 10ms/step\n",
      "Epoch 15/50\n",
      "148/148 - 2s - loss: 2.2948e-04 - acc: 1.0000 - 2s/epoch - 10ms/step\n",
      "Epoch 16/50\n",
      "148/148 - 2s - loss: 1.9233e-04 - acc: 1.0000 - 2s/epoch - 10ms/step\n",
      "Epoch 17/50\n",
      "148/148 - 2s - loss: 1.6945e-04 - acc: 1.0000 - 2s/epoch - 11ms/step\n",
      "Epoch 18/50\n",
      "148/148 - 2s - loss: 1.2365e-04 - acc: 1.0000 - 2s/epoch - 10ms/step\n",
      "Epoch 19/50\n",
      "148/148 - 2s - loss: 9.8898e-05 - acc: 1.0000 - 2s/epoch - 10ms/step\n",
      "Epoch 20/50\n",
      "148/148 - 2s - loss: 8.6423e-05 - acc: 1.0000 - 2s/epoch - 10ms/step\n",
      "Epoch 21/50\n",
      "148/148 - 2s - loss: 7.3466e-05 - acc: 1.0000 - 2s/epoch - 10ms/step\n",
      "Epoch 22/50\n",
      "148/148 - 2s - loss: 0.0055 - acc: 0.9981 - 2s/epoch - 10ms/step\n",
      "Epoch 23/50\n",
      "148/148 - 2s - loss: 0.0088 - acc: 0.9975 - 2s/epoch - 10ms/step\n",
      "Epoch 24/50\n",
      "148/148 - 2s - loss: 7.7564e-04 - acc: 0.9998 - 2s/epoch - 10ms/step\n",
      "Epoch 25/50\n",
      "148/148 - 2s - loss: 3.4637e-04 - acc: 1.0000 - 2s/epoch - 10ms/step\n",
      "Epoch 26/50\n",
      "148/148 - 2s - loss: 3.0686e-04 - acc: 1.0000 - 2s/epoch - 10ms/step\n",
      "Epoch 27/50\n",
      "148/148 - 2s - loss: 2.1589e-04 - acc: 1.0000 - 2s/epoch - 10ms/step\n",
      "Epoch 28/50\n",
      "148/148 - 2s - loss: 1.5412e-04 - acc: 1.0000 - 2s/epoch - 10ms/step\n",
      "Epoch 29/50\n",
      "148/148 - 2s - loss: 1.3309e-04 - acc: 1.0000 - 2s/epoch - 10ms/step\n",
      "Epoch 30/50\n",
      "148/148 - 2s - loss: 1.0663e-04 - acc: 1.0000 - 2s/epoch - 10ms/step\n",
      "Epoch 31/50\n",
      "148/148 - 2s - loss: 9.2163e-05 - acc: 1.0000 - 2s/epoch - 10ms/step\n",
      "Epoch 32/50\n",
      "148/148 - 2s - loss: 7.9670e-05 - acc: 1.0000 - 2s/epoch - 10ms/step\n",
      "Epoch 33/50\n",
      "148/148 - 2s - loss: 6.8698e-05 - acc: 1.0000 - 2s/epoch - 10ms/step\n",
      "Epoch 34/50\n",
      "148/148 - 2s - loss: 7.0903e-05 - acc: 1.0000 - 2s/epoch - 11ms/step\n",
      "Epoch 35/50\n",
      "148/148 - 2s - loss: 5.4308e-05 - acc: 1.0000 - 2s/epoch - 10ms/step\n",
      "Epoch 36/50\n",
      "148/148 - 2s - loss: 4.7902e-05 - acc: 1.0000 - 2s/epoch - 10ms/step\n",
      "Epoch 37/50\n",
      "148/148 - 2s - loss: 4.2139e-05 - acc: 1.0000 - 2s/epoch - 10ms/step\n",
      "Epoch 38/50\n",
      "148/148 - 2s - loss: 3.7781e-05 - acc: 1.0000 - 2s/epoch - 10ms/step\n",
      "Epoch 39/50\n",
      "148/148 - 2s - loss: 3.3199e-05 - acc: 1.0000 - 2s/epoch - 10ms/step\n",
      "Epoch 40/50\n",
      "148/148 - 2s - loss: 3.2168e-05 - acc: 1.0000 - 2s/epoch - 10ms/step\n",
      "Epoch 41/50\n",
      "148/148 - 2s - loss: 2.6349e-05 - acc: 1.0000 - 2s/epoch - 10ms/step\n",
      "Epoch 42/50\n",
      "148/148 - 2s - loss: 2.8571e-05 - acc: 1.0000 - 2s/epoch - 10ms/step\n",
      "Epoch 43/50\n",
      "148/148 - 2s - loss: 2.4973e-05 - acc: 1.0000 - 2s/epoch - 10ms/step\n",
      "Epoch 44/50\n",
      "148/148 - 2s - loss: 2.0078e-05 - acc: 1.0000 - 2s/epoch - 10ms/step\n",
      "Epoch 45/50\n",
      "148/148 - 2s - loss: 1.8183e-05 - acc: 1.0000 - 2s/epoch - 10ms/step\n",
      "Epoch 46/50\n",
      "148/148 - 2s - loss: 1.6235e-05 - acc: 1.0000 - 2s/epoch - 10ms/step\n",
      "Epoch 47/50\n",
      "148/148 - 2s - loss: 1.4045e-05 - acc: 1.0000 - 2s/epoch - 10ms/step\n",
      "Epoch 48/50\n",
      "148/148 - 2s - loss: 1.4006e-05 - acc: 1.0000 - 2s/epoch - 10ms/step\n",
      "Epoch 49/50\n",
      "148/148 - 2s - loss: 1.2364e-05 - acc: 1.0000 - 2s/epoch - 10ms/step\n",
      "Epoch 50/50\n",
      "148/148 - 2s - loss: 1.0755e-05 - acc: 1.0000 - 2s/epoch - 10ms/step\n"
     ]
    }
   ],
   "source": [
    "batch_size = 32\n",
    "history=model.fit(X_train, Y_train, epochs =50, batch_size=batch_size, verbose = 2)"
   ]
  },
  {
   "cell_type": "code",
   "execution_count": 73,
   "id": "0d4dc8ee",
   "metadata": {},
   "outputs": [
    {
     "data": {
      "image/png": "[encoded data removed]",
      "text/plain": [
       "<Figure size 640x480 with 1 Axes>"
      ]
     },
     "metadata": {},
     "output_type": "display_data"
    },
    {
     "data": {
      "image/png": "[encoded data removed]",
      "text/plain": [
       "<Figure size 640x480 with 1 Axes>"
      ]
     },
     "metadata": {},
     "output_type": "display_data"
    },
    {
     "data": {
      "text/plain": [
       "<Figure size 640x480 with 0 Axes>"
      ]
     },
     "metadata": {},
     "output_type": "display_data"
    }
   ],
   "source": [
    "plt.plot(history.history['acc'])\n",
    "plt.title('model accuracy')\n",
    "plt.ylabel('acc')\n",
    "plt.xlabel('epochs')\n",
    "plt.legend(['train', 'test'], loc='upper left')\n",
    "plt.show()\n",
    "plt.savefig('model_accuracy.png')\n",
    "\n",
    "# summarize history for loss\n",
    "plt.plot(history.history['loss'])\n",
    "#plt.plot(history.history['val_loss'])\n",
    "plt.title('model loss')\n",
    "plt.ylabel('loss')\n",
    "plt.xlabel('epochs')\n",
    "plt.legend(['train', 'test'], loc='upper left')\n",
    "plt.show()\n",
    "plt.savefig('model_loss.png')"
   ]
  },
  {
   "cell_type": "code",
   "execution_count": 74,
   "id": "5ea2875e",
   "metadata": {},
   "outputs": [
    {
     "name": "stdout",
     "output_type": "stream",
     "text": [
      "148/148 - 1s - loss: 1.0920e-05 - acc: 1.0000 - 829ms/epoch - 6ms/step\n",
      "27/27 - 0s - loss: 0.0912 - acc: 0.9904 - 351ms/epoch - 13ms/step\n",
      "Train: 1.000, Test: 0.9904\n"
     ]
    }
   ],
   "source": [
    "# evaluate the model\n",
    "_, train_acc = model.evaluate(X_train, Y_train, verbose=2)\n",
    "_, test_acc = model.evaluate(X_test, Y_test, verbose=2)\n",
    "print('Train: %.3f, Test: %.4f' % (train_acc, test_acc))"
   ]
  },
  {
   "cell_type": "code",
   "execution_count": 82,
   "id": "83d85f8c",
   "metadata": {},
   "outputs": [
    {
     "name": "stdout",
     "output_type": "stream",
     "text": [
      "[[1.0000000e+00 1.4239743e-13]\n",
      " [1.0000000e+00 6.0482908e-12]\n",
      " [1.0000000e+00 1.8714299e-12]\n",
      " ...\n",
      " [1.0000000e+00 5.1295719e-13]\n",
      " [1.0000000e+00 1.8166558e-13]\n",
      " [1.0000000e+00 5.2738765e-11]]\n",
      "[0 0 0 0 0 0 0 0 0 0 0 0 0 0 1 0 0 0 0 0 0 0 0 0 1 0 0 0 0 0 0 0 0 0 0 0 0\n",
      " 0 0 0 0 0 0 0 0 0 0 1 0 0 0 1 0 0 0 0 0 0 0 0 1 0 1 0 0 0 0 0 0 0 1 0 1 1\n",
      " 1 1 0 0 0 0 0 0 0 0 1 0 0 0 0 0 0 0 0 0 0 0 0 0 0 0 0 0 0 0 0 0 0 0 0 0 0\n",
      " 0 0 0 0 1 0 0 0 1 0 0 0 0 0 0 0 0 0 1 0 0 0 0 0 0 0 0 0 0 0 0 0 0 0 0 1 0\n",
      " 0 0 0 0 0 0 0 0 0 0 0 0 0 0 0 0 0 0 1 1 0 0 0 0 0 0 0 0 0 0 0 0 0 0 0 0 0\n",
      " 0 0 0 0 0 0 0 0 0 0 0 0 0 0 0 0 0 0 0 0 0 0 0 1 0 0 1 0 0 0 0 0 0 0 0 0 1\n",
      " 0 0 0 0 0 0 0 0 0 0 0 0 0 0 1 0 1 0 1 0 0 1 0 0 0 0 0 0 0 1 0 0 0 0 0 0 0\n",
      " 1 1 0 0 0 0 0 0 0 0 0 0 0 0 0 0 0 0 0 0 0 1 0 0 0 0 0 0 1 0 0 0 1 1 0 0 0\n",
      " 0 1 0 1 0 0 0 0 0 0 0 1 0 0 0 0 0 0 1 0 0 0 0 0 0 0 0 0 1 0 1 0 0 0 0 0 0\n",
      " 0 0 0 0 1 1 0 0 0 0 0 1 0 0 0 0 0 0 0 0 0 0 0 0 1 0 0 0 0 0 0 0 0 0 0 0 0\n",
      " 0 0 0 0 0 0 0 0 0 0 0 0 0 0 0 0 0 0 0 0 0 0 0 1 0 1 0 0 0 0 0 0 0 0 0 1 0\n",
      " 0 1 0 0 0 0 0 0 0 0 0 0 0 0 0 0 0 0 0 1 0 0 1 0 0 0 0 0 0 1 0 0 0 1 0 0 0\n",
      " 1 0 0 0 0 0 0 1 0 0 1 0 0 0 0 0 0 1 0 0 0 0 0 0 0 0 1 0 0 0 0 0 0 0 0 0 0\n",
      " 1 0 0 0 0 0 0 0 1 0 0 0 0 1 0 0 1 0 0 0 0 0 0 0 0 0 0 0 0 0 0 0 0 0 0 0 0\n",
      " 1 1 0 0 0 0 0 0 0 0 0 0 0 0 0 0 0 0 0 0 0 1 0 1 0 1 1 1 0 0 0 0 1 1 1 0 0\n",
      " 0 0 0 0 0 0 1 0 1 0 0 0 0 0 0 0 0 0 0 0 0 1 0 0 0 0 0 0 0 0 1 0 0 0 0 0 0\n",
      " 0 0 0 0 0 0 0 0 0 0 0 0 0 0 0 0 0 0 1 1 0 0 0 0 0 1 0 0 0 0 0 0 0 0 0 0 0\n",
      " 0 0 0 0 0 0 0 0 0 0 0 0 0 0 1 0 0 0 1 0 0 0 0 1 0 0 0 0 0 0 0 0 0 0 0 0 0\n",
      " 0 0 0 0 0 0 0 0 0 0 0 0 1 0 0 1 0 0 0 0 0 0 0 0 0 0 0 0 0 0 0 0 0 0 0 0 0\n",
      " 0 0 0 0 0 0 0 0 0 0 0 0 0 0 0 0 0 0 0 0 0 1 0 0 0 0 0 1 1 0 0 0 0 0 0 0 0\n",
      " 0 1 0 0 0 0 0 0 0 0 0 0 0 1 0 1 0 0 0 0 0 0 1 0 0 0 0 0 0 0 0 0 0 1 0 0 0\n",
      " 0 0 0 1 0 1 0 1 0 0 0 0 0 0 0 0 0 1 1 0 0 0 0 0 1 1 0 0 0 0 1 0 0 0 0 0 0\n",
      " 0 1 1 1 0 1 0 0 0 0 0 0 0 0 0 0 1 1 0 0 0 0]\n"
     ]
    }
   ],
   "source": [
    "\n",
    "\n",
    "# predict probabilities for test set\n",
    "yhat_probs = model.predict(X_test, verbose=0)\n",
    "print(yhat_probs)\n",
    "# predict crisp classes for test set\n",
    "#yhat_classes = model.predict_classes(X_test, verbose=0)\n",
    "yhat_classes =np.argmax(yhat_probs, axis=1)\n",
    "print(yhat_classes)\n",
    "# reduce to 1d array\n",
    "yhat_probs = yhat_probs[:, 0]\n",
    "#yhat_classes = yhat_classes[:, 1\n",
    "\n",
    "\n",
    "\n",
    "import numpy as np"
   ]
  },
  {
   "cell_type": "code",
   "execution_count": 78,
   "id": "381437c5",
   "metadata": {},
   "outputs": [
    {
     "name": "stdout",
     "output_type": "stream",
     "text": [
      "27/27 [==============================] - 0s 4ms/step\n",
      "[0 0 0 0 0 0 0 0 0 0 0 0 0 0 1 0 0 0 0 0 0 0 0 0 1 0 0 0 0 0 0 0 0 0 0 0 0\n",
      " 0 0 0 0 0 0 0 0 0 0 1 0 0 0 1 0 0 0 0 0 0 0 0 1 0 1 0 0 0 0 0 0 0 1 0 1 1\n",
      " 1 1 0 0 0 0 0 0 0 0 1 0 0 0 0 0 0 0 0 0 0 0 0 0 0 0 0 0 0 0 0 0 0 0 0 0 0\n",
      " 0 0 0 0 1 0 0 0 1 0 0 0 0 0 0 0 0 0 1 0 0 0 0 0 0 0 0 0 0 0 0 0 0 0 0 1 0\n",
      " 0 0 0 0 0 0 0 0 0 0 0 0 0 0 0 0 0 0 1 1 0 0 0 0 0 0 0 0 0 0 0 0 0 0 0 0 0\n",
      " 0 0 0 0 0 0 0 0 0 0 0 0 0 0 0 0 0 0 0 0 0 0 0 1 0 0 1 0 0 0 0 0 0 0 0 0 1\n",
      " 0 0 0 0 0 0 0 0 0 0 0 0 0 0 1 0 1 0 1 0 0 1 0 0 0 0 0 0 0 1 0 0 0 0 0 0 0\n",
      " 1 1 0 0 0 0 0 0 0 0 0 0 0 0 0 0 0 0 0 0 0 1 0 0 0 0 0 0 1 0 0 0 1 1 0 0 0\n",
      " 0 1 0 1 0 0 0 0 0 0 0 1 0 0 0 0 0 0 1 0 0 0 0 0 0 0 0 0 1 0 1 0 0 0 0 0 0\n",
      " 0 0 0 0 1 1 0 0 0 0 0 1 0 0 0 0 0 0 0 0 0 0 0 0 1 0 0 0 0 0 0 0 0 0 0 0 0\n",
      " 0 0 0 0 0 0 0 0 0 0 0 0 0 0 0 0 0 0 0 0 0 0 0 1 0 1 0 0 0 0 0 0 0 0 0 1 0\n",
      " 0 1 0 0 0 0 0 0 0 0 0 0 0 0 0 0 0 0 0 1 0 0 1 0 0 0 0 0 0 1 0 0 0 1 0 0 0\n",
      " 1 0 0 0 0 0 0 1 0 0 1 0 0 0 0 0 0 1 0 0 0 0 0 0 0 0 1 0 0 0 0 0 0 0 0 0 0\n",
      " 1 0 0 0 0 0 0 0 1 0 0 0 0 1 0 0 1 0 0 0 0 0 0 0 0 0 0 0 0 0 0 0 0 0 0 0 0\n",
      " 1 1 0 0 0 0 0 0 0 0 0 0 0 0 0 0 0 0 0 0 0 1 0 1 0 1 1 1 0 0 0 0 1 1 1 0 0\n",
      " 0 0 0 0 0 0 1 0 1 0 0 0 0 0 0 0 0 0 0 0 0 1 0 0 0 0 0 0 0 0 1 0 0 0 0 0 0\n",
      " 0 0 0 0 0 0 0 0 0 0 0 0 0 0 0 0 0 0 1 1 0 0 0 0 0 1 0 0 0 0 0 0 0 0 0 0 0\n",
      " 0 0 0 0 0 0 0 0 0 0 0 0 0 0 1 0 0 0 1 0 0 0 0 1 0 0 0 0 0 0 0 0 0 0 0 0 0\n",
      " 0 0 0 0 0 0 0 0 0 0 0 0 1 0 0 1 0 0 0 0 0 0 0 0 0 0 0 0 0 0 0 0 0 0 0 0 0\n",
      " 0 0 0 0 0 0 0 0 0 0 0 0 0 0 0 0 0 0 0 0 0 1 0 0 0 0 0 1 1 0 0 0 0 0 0 0 0\n",
      " 0 1 0 0 0 0 0 0 0 0 0 0 0 1 0 1 0 0 0 0 0 0 1 0 0 0 0 0 0 0 0 0 0 1 0 0 0\n",
      " 0 0 0 1 0 1 0 1 0 0 0 0 0 0 0 0 0 1 1 0 0 0 0 0 1 1 0 0 0 0 1 0 0 0 0 0 0\n",
      " 0 1 1 1 0 1 0 0 0 0 0 0 0 0 0 0 1 1 0 0 0 0]\n"
     ]
    }
   ],
   "source": [
    "# Assuming model is your Sequential model\n",
    "predictions = model.predict(X_test)  # Replace input_data with your data\n",
    "predicted_classes = np.argmax(predictions, axis=-1)\n",
    "print(predicted_classes)"
   ]
  },
  {
   "cell_type": "code",
   "execution_count": 83,
   "id": "ee658f27",
   "metadata": {},
   "outputs": [
    {
     "data": {
      "text/plain": [
       "array([0, 0, 0, 0, 0, 0, 0, 0, 0, 0, 0, 0, 0, 0, 1, 0, 0, 0, 0, 0, 0, 0,\n",
       "       0, 0, 1, 0, 0, 0, 0, 0, 0, 0, 0, 0, 0, 0, 0, 0, 0, 0, 1, 0, 0, 0,\n",
       "       0, 0, 0, 1, 0, 0, 0, 1, 0, 0, 0, 0, 0, 0, 0, 0, 1, 0, 1, 0, 0, 0,\n",
       "       0, 0, 0, 0, 1, 0, 1, 1, 1, 1, 0, 0, 0, 0, 0, 0, 0, 0, 1, 0, 0, 0,\n",
       "       0, 0, 0, 0, 0, 0, 0, 0, 0, 0, 0, 0, 0, 0, 0, 0, 0, 0, 0, 0, 0, 0,\n",
       "       0, 0, 0, 0, 0, 1, 0, 0, 0, 1, 0, 0, 0, 0, 0, 0, 0, 0, 0, 1, 0, 0,\n",
       "       0, 0, 0, 0, 0, 0, 0, 0, 0, 0, 0, 0, 0, 0, 1, 0, 0, 0, 0, 0, 0, 0,\n",
       "       0, 0, 0, 0, 0, 0, 1, 0, 0, 0, 0, 0, 1, 1, 0, 0, 0, 0, 0, 0, 0, 0,\n",
       "       0, 0, 0, 0, 0, 0, 0, 0, 0, 0, 0, 0, 0, 0, 0, 0, 0, 0, 0, 0, 0, 0,\n",
       "       0, 0, 0, 0, 0, 0, 0, 0, 0, 0, 1, 0, 0, 1, 0, 0, 0, 0, 0, 0, 0, 0,\n",
       "       0, 1, 0, 0, 0, 0, 0, 0, 0, 0, 0, 0, 0, 0, 1, 0, 1, 0, 1, 0, 1, 0,\n",
       "       0, 1, 0, 0, 0, 0, 0, 0, 0, 1, 0, 0, 0, 0, 0, 0, 0, 1, 1, 0, 0, 0,\n",
       "       0, 0, 0, 0, 0, 0, 0, 0, 1, 0, 0, 0, 0, 0, 0, 0, 1, 0, 0, 0, 0, 0,\n",
       "       0, 1, 0, 0, 0, 1, 1, 0, 0, 0, 0, 1, 0, 1, 0, 0, 0, 0, 0, 0, 0, 1,\n",
       "       0, 0, 0, 0, 0, 0, 1, 0, 0, 0, 0, 0, 0, 0, 0, 0, 1, 0, 1, 0, 0, 0,\n",
       "       0, 0, 0, 0, 0, 0, 0, 0, 1, 0, 0, 0, 0, 0, 1, 0, 0, 0, 0, 0, 0, 0,\n",
       "       0, 0, 0, 0, 0, 1, 0, 0, 0, 0, 0, 0, 0, 0, 0, 0, 0, 0, 0, 0, 0, 0,\n",
       "       0, 0, 0, 0, 0, 0, 0, 0, 0, 0, 0, 0, 0, 0, 0, 0, 0, 0, 0, 1, 0, 1,\n",
       "       0, 0, 0, 0, 0, 0, 0, 0, 0, 1, 0, 0, 1, 0, 0, 0, 0, 0, 0, 0, 0, 0,\n",
       "       0, 0, 0, 0, 0, 0, 0, 0, 1, 0, 0, 1, 0, 0, 0, 0, 0, 0, 1, 0, 0, 0,\n",
       "       1, 0, 0, 0, 1, 0, 0, 0, 0, 0, 0, 1, 0, 0, 1, 0, 0, 0, 0, 0, 0, 1,\n",
       "       0, 0, 0, 0, 0, 0, 0, 0, 1, 0, 0, 0, 0, 0, 0, 0, 0, 0, 0, 1, 0, 0,\n",
       "       0, 0, 0, 0, 0, 1, 0, 0, 0, 0, 1, 0, 0, 1, 0, 0, 0, 0, 0, 0, 0, 0,\n",
       "       0, 0, 0, 0, 0, 0, 0, 0, 0, 0, 0, 0, 1, 1, 0, 0, 0, 0, 0, 0, 0, 0,\n",
       "       0, 0, 1, 0, 0, 0, 0, 0, 0, 0, 0, 1, 0, 1, 0, 1, 1, 1, 0, 0, 0, 0,\n",
       "       1, 1, 1, 0, 0, 0, 0, 0, 0, 0, 0, 1, 0, 1, 0, 0, 0, 0, 0, 0, 0, 0,\n",
       "       0, 0, 0, 0, 1, 0, 0, 0, 0, 0, 0, 0, 0, 1, 0, 0, 0, 0, 0, 0, 0, 0,\n",
       "       0, 0, 0, 0, 0, 0, 0, 0, 0, 0, 0, 0, 0, 0, 0, 0, 1, 1, 0, 0, 0, 0,\n",
       "       0, 1, 0, 0, 0, 0, 0, 0, 0, 0, 0, 0, 0, 0, 0, 0, 0, 0, 0, 1, 0, 0,\n",
       "       0, 0, 0, 0, 0, 1, 0, 0, 0, 1, 0, 0, 0, 0, 1, 0, 0, 0, 0, 0, 0, 0,\n",
       "       0, 0, 0, 0, 0, 0, 0, 0, 0, 0, 0, 0, 0, 0, 0, 0, 0, 0, 1, 0, 0, 1,\n",
       "       0, 0, 0, 0, 0, 0, 0, 0, 0, 0, 0, 0, 0, 0, 0, 0, 0, 0, 0, 0, 0, 0,\n",
       "       0, 0, 0, 0, 0, 0, 0, 0, 0, 0, 0, 0, 0, 0, 0, 0, 0, 0, 0, 0, 1, 0,\n",
       "       0, 0, 0, 0, 1, 1, 0, 0, 0, 0, 0, 0, 0, 0, 0, 1, 0, 0, 0, 0, 0, 0,\n",
       "       0, 0, 0, 0, 0, 1, 0, 1, 0, 0, 0, 0, 0, 0, 1, 0, 0, 0, 0, 0, 0, 0,\n",
       "       0, 0, 0, 1, 0, 0, 0, 0, 0, 0, 1, 0, 1, 0, 1, 0, 0, 0, 0, 0, 0, 0,\n",
       "       0, 0, 1, 1, 0, 0, 0, 0, 0, 1, 1, 0, 0, 0, 0, 0, 0, 0, 0, 0, 0, 0,\n",
       "       0, 1, 1, 1, 0, 1, 0, 0, 0, 0, 0, 0, 0, 0, 0, 0, 1, 1, 0, 0, 0, 0])"
      ]
     },
     "execution_count": 83,
     "metadata": {},
     "output_type": "execute_result"
    }
   ],
   "source": [
    "\n",
    "\n",
    "import numpy as np\n",
    "rounded_labels=np.argmax(Y_test, axis=1)\n",
    "rounded_labels\n",
    "\n"
   ]
  },
  {
   "cell_type": "code",
   "execution_count": 84,
   "id": "340d5b80",
   "metadata": {},
   "outputs": [
    {
     "data": {
      "text/plain": [
       "array([[727,   2],\n",
       "       [  6, 101]])"
      ]
     },
     "execution_count": 84,
     "metadata": {},
     "output_type": "execute_result"
    }
   ],
   "source": [
    "\n",
    "\n",
    "from sklearn.metrics import confusion_matrix\n",
    "cm = confusion_matrix(rounded_labels, yhat_classes)\n",
    "cm\n",
    "\n"
   ]
  },
  {
   "cell_type": "code",
   "execution_count": 85,
   "id": "04ba8a0f",
   "metadata": {},
   "outputs": [
    {
     "data": {
      "image/png": "[encoded data removed]",
      "text/plain": [
       "<Figure size 500x500 with 2 Axes>"
      ]
     },
     "metadata": {},
     "output_type": "display_data"
    }
   ],
   "source": [
    "\n",
    "\n",
    "# The confusion matrix\n",
    "from sklearn.metrics import confusion_matrix\n",
    "import seaborn as sns\n",
    "\n",
    "lstm_val = confusion_matrix(rounded_labels, yhat_classes)\n",
    "f, ax = plt.subplots(figsize=(5,5))\n",
    "sns.heatmap(lstm_val, annot=True, linewidth=0.7, linecolor='cyan', fmt='g', ax=ax, cmap=\"BuPu\")\n",
    "plt.title('LSTM Classification Confusion Matrix')\n",
    "plt.xlabel('Y predict')\n",
    "plt.ylabel('Y test')\n",
    "plt.show()\n",
    "\n"
   ]
  },
  {
   "cell_type": "code",
   "execution_count": 86,
   "id": "8c28c887",
   "metadata": {},
   "outputs": [
    {
     "name": "stdout",
     "output_type": "stream",
     "text": [
      "20/20 [==============================] - 0s 4ms/step - loss: 0.1169 - acc: 0.9890\n",
      "score: 0.12\n",
      "acc: 0.99\n"
     ]
    }
   ],
   "source": [
    "\n",
    "\n",
    "validation_size = 200\n",
    "\n",
    "X_validate = X_test[-validation_size:]\n",
    "Y_validate = Y_test[-validation_size:]\n",
    "X_test = X_test[:-validation_size]\n",
    "Y_test = Y_test[:-validation_size]\n",
    "score,acc = model.evaluate(X_test, Y_test, verbose = 1, batch_size = batch_size)\n",
    "\n",
    "print(\"score: %.2f\" % (score))\n",
    "print(\"acc: %.2f\" % (acc))\n",
    "\n"
   ]
  },
  {
   "cell_type": "code",
   "execution_count": 87,
   "id": "ace117c6",
   "metadata": {},
   "outputs": [],
   "source": [
    "model.save('Mymodel.h5')"
   ]
  },
  {
   "cell_type": "code",
   "execution_count": 88,
   "id": "e11c6f1d",
   "metadata": {},
   "outputs": [
    {
     "name": "stdout",
     "output_type": "stream",
     "text": [
      "1/1 [==============================] - 0s 23ms/step\n",
      "[[1.2103091e-08 1.0000000e+00]] spam\n"
     ]
    }
   ],
   "source": [
    "\n",
    "\n",
    "message = ['Congratulations! you have won a $1,000 Walmart gift card. Go to http://bit.ly/123456 to claim now.']\n",
    "seq = tokenizer.texts_to_sequences(message)\n",
    "\n",
    "padded = pad_sequences(seq, maxlen=X.shape[1], dtype='int32', value=0)\n",
    "\n",
    "pred = model.predict(padded)\n",
    "\n",
    "labels = ['ham','spam']\n",
    "print(pred, labels[np.argmax(pred)])\n",
    "\n"
   ]
  },
  {
   "cell_type": "code",
   "execution_count": 89,
   "id": "957bfa9a",
   "metadata": {},
   "outputs": [
    {
     "name": "stdout",
     "output_type": "stream",
     "text": [
      "1/1 [==============================] - 0s 24ms/step\n",
      "[[1.00000e+00 9.18021e-12]] ham\n"
     ]
    }
   ],
   "source": [
    "message = ['thanks for accepting my request to connect']\n",
    "seq = tokenizer.texts_to_sequences(message)\n",
    "\n",
    "padded = pad_sequences(seq, maxlen=X.shape[1], dtype='int32', value=0)\n",
    "\n",
    "pred = model.predict(padded)\n",
    "\n",
    "labels = ['ham','spam']\n",
    "print(pred, labels[np.argmax(pred)])"
   ]
  },
  {
   "cell_type": "code",
   "execution_count": null,
   "id": "e11e373e",
   "metadata": {},
   "outputs": [],
   "source": []
  }
 ],
 "metadata": {
  "kernelspec": {
   "display_name": "Python 3 (ipykernel)",
   "language": "python",
   "name": "python3"
  },
  "language_info": {
   "codemirror_mode": {
    "name": "ipython",
    "version": 3
   },
   "file_extension": ".py",
   "mimetype": "text/x-python",
   "name": "python",
   "nbconvert_exporter": "python",
   "pygments_lexer": "ipython3",
   "version": "3.9.16"
  }
 },
 "nbformat": 4,
 "nbformat_minor": 5
}

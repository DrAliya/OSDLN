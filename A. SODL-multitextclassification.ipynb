{
 "cells": [
  {
   "cell_type": "markdown",
   "id": "7686d3e6",
   "metadata": {},
   "source": [
    "#Multi-Class Text Classification with Doc2Vec & Logistic Regression\n",
    "#Doc2vec is an NLP tool for representing documents as a vector and is a generalizing of the word2vec method."
   ]
  },
  {
   "cell_type": "markdown",
   "id": "2e2bf360",
   "metadata": {},
   "source": [
    "#dataset used is available at https://catalog.data.gov/dataset/consumer-complaint-database"
   ]
  },
  {
   "cell_type": "code",
   "execution_count": 1,
   "id": "3aeff7b4",
   "metadata": {},
   "outputs": [
    {
     "name": "stdout",
     "output_type": "stream",
     "text": [
      "Intel MKL WARNING: Support of Intel(R) Streaming SIMD Extensions 4.2 (Intel(R) SSE4.2) enabled only processors has been deprecated. Intel oneAPI Math Kernel Library 2025.0 will require Intel(R) Advanced Vector Extensions (Intel(R) AVX) instructions.\n",
      "Intel MKL WARNING: Support of Intel(R) Streaming SIMD Extensions 4.2 (Intel(R) SSE4.2) enabled only processors has been deprecated. Intel oneAPI Math Kernel Library 2025.0 will require Intel(R) Advanced Vector Extensions (Intel(R) AVX) instructions.\n"
     ]
    },
    {
     "data": {
      "text/html": [
       "<div>\n",
       "<style scoped>\n",
       "    .dataframe tbody tr th:only-of-type {\n",
       "        vertical-align: middle;\n",
       "    }\n",
       "\n",
       "    .dataframe tbody tr th {\n",
       "        vertical-align: top;\n",
       "    }\n",
       "\n",
       "    .dataframe thead th {\n",
       "        text-align: right;\n",
       "    }\n",
       "</style>\n",
       "<table border=\"1\" class=\"dataframe\">\n",
       "  <thead>\n",
       "    <tr style=\"text-align: right;\">\n",
       "      <th></th>\n",
       "      <th>narrative</th>\n",
       "      <th>Product</th>\n",
       "    </tr>\n",
       "  </thead>\n",
       "  <tbody>\n",
       "    <tr>\n",
       "      <th>4</th>\n",
       "      <td>XXXX XXXX  is a rip-off company that never giv...</td>\n",
       "      <td>Mortgage</td>\n",
       "    </tr>\n",
       "    <tr>\n",
       "      <th>10</th>\n",
       "      <td>I fell behind on my payments in XXXX when i go...</td>\n",
       "      <td>Vehicle loan or lease</td>\n",
       "    </tr>\n",
       "    <tr>\n",
       "      <th>12</th>\n",
       "      <td>Been trying to settle this debt for like 2 yea...</td>\n",
       "      <td>Debt collection</td>\n",
       "    </tr>\n",
       "    <tr>\n",
       "      <th>26</th>\n",
       "      <td>I was the victim of a job scam. I accepted the...</td>\n",
       "      <td>Money transfer, virtual currency, or money ser...</td>\n",
       "    </tr>\n",
       "    <tr>\n",
       "      <th>36</th>\n",
       "      <td>You have listed incorrect accounts on my credi...</td>\n",
       "      <td>Credit reporting, credit repair services, or o...</td>\n",
       "    </tr>\n",
       "    <tr>\n",
       "      <th>37</th>\n",
       "      <td>My loan transferred to Lakeview Loan Servicing...</td>\n",
       "      <td>Mortgage</td>\n",
       "    </tr>\n",
       "    <tr>\n",
       "      <th>38</th>\n",
       "      <td>My loan is XXXX XXXX XXXX on XX/XX/2023. \\nI r...</td>\n",
       "      <td>Mortgage</td>\n",
       "    </tr>\n",
       "    <tr>\n",
       "      <th>52</th>\n",
       "      <td>I do not know if this is a legit debtor, I rec...</td>\n",
       "      <td>Debt collection</td>\n",
       "    </tr>\n",
       "    <tr>\n",
       "      <th>53</th>\n",
       "      <td>In accordance with the Fair Credit Reporting a...</td>\n",
       "      <td>Credit reporting, credit repair services, or o...</td>\n",
       "    </tr>\n",
       "    <tr>\n",
       "      <th>56</th>\n",
       "      <td>Wells Fargo illegally sold my mortgage while i...</td>\n",
       "      <td>Mortgage</td>\n",
       "    </tr>\n",
       "  </tbody>\n",
       "</table>\n",
       "</div>"
      ],
      "text/plain": [
       "                                            narrative  \\\n",
       "4   XXXX XXXX  is a rip-off company that never giv...   \n",
       "10  I fell behind on my payments in XXXX when i go...   \n",
       "12  Been trying to settle this debt for like 2 yea...   \n",
       "26  I was the victim of a job scam. I accepted the...   \n",
       "36  You have listed incorrect accounts on my credi...   \n",
       "37  My loan transferred to Lakeview Loan Servicing...   \n",
       "38  My loan is XXXX XXXX XXXX on XX/XX/2023. \\nI r...   \n",
       "52  I do not know if this is a legit debtor, I rec...   \n",
       "53  In accordance with the Fair Credit Reporting a...   \n",
       "56  Wells Fargo illegally sold my mortgage while i...   \n",
       "\n",
       "                                              Product  \n",
       "4                                            Mortgage  \n",
       "10                              Vehicle loan or lease  \n",
       "12                                    Debt collection  \n",
       "26  Money transfer, virtual currency, or money ser...  \n",
       "36  Credit reporting, credit repair services, or o...  \n",
       "37                                           Mortgage  \n",
       "38                                           Mortgage  \n",
       "52                                    Debt collection  \n",
       "53  Credit reporting, credit repair services, or o...  \n",
       "56                                           Mortgage  "
      ]
     },
     "execution_count": 1,
     "metadata": {},
     "output_type": "execute_result"
    }
   ],
   "source": [
    "import pandas as pd\n",
    "import numpy as np\n",
    "from tqdm import tqdm\n",
    "tqdm.pandas(desc=\"progress-bar\")\n",
    "from gensim.models import Doc2Vec\n",
    "from sklearn import utils\n",
    "from sklearn.model_selection import train_test_split\n",
    "import gensim\n",
    "from sklearn.linear_model import LogisticRegression\n",
    "from gensim.models.doc2vec import TaggedDocument\n",
    "import re\n",
    "import seaborn as sns\n",
    "import matplotlib.pyplot as plt\n",
    "df = pd.read_csv('complaints.csv')\n",
    "df = df[['Consumer complaint narrative','Product']]\n",
    "df = df[pd.notnull(df['Consumer complaint narrative'])]\n",
    "df.rename(columns = {'Consumer complaint narrative':'narrative'}, inplace = True)\n",
    "df.head(10)"
   ]
  },
  {
   "cell_type": "markdown",
   "id": "cada51fe",
   "metadata": {},
   "source": [
    "#After remove null values in narrative columns, we will need to re-index the data frame."
   ]
  },
  {
   "cell_type": "code",
   "execution_count": 2,
   "id": "8a36ebf8",
   "metadata": {},
   "outputs": [
    {
     "data": {
      "text/plain": [
       "(1450320, 2)"
      ]
     },
     "execution_count": 2,
     "metadata": {},
     "output_type": "execute_result"
    }
   ],
   "source": [
    "df.shape"
   ]
  },
  {
   "cell_type": "code",
   "execution_count": 3,
   "id": "a3afabf0",
   "metadata": {},
   "outputs": [
    {
     "data": {
      "text/plain": [
       "269686376"
      ]
     },
     "execution_count": 3,
     "metadata": {},
     "output_type": "execute_result"
    }
   ],
   "source": [
    "df.index = range(1450320)\n",
    "df['narrative'].apply(lambda x: len(x.split(' '))).sum()"
   ]
  },
  {
   "cell_type": "markdown",
   "id": "95e1916f",
   "metadata": {},
   "source": [
    "# we have 269 million words"
   ]
  },
  {
   "cell_type": "code",
   "execution_count": 4,
   "id": "8343e5a4",
   "metadata": {},
   "outputs": [
    {
     "data": {
      "image/png": "[encoded data removed]",
      "text/plain": [
       "<Figure size 1200x400 with 1 Axes>"
      ]
     },
     "metadata": {},
     "output_type": "display_data"
    }
   ],
   "source": [
    "#Exploring\n",
    "\n",
    "cnt_pro = df['Product'].value_counts()\n",
    "plt.figure(figsize=(12,4))\n",
    "sns.barplot(x=cnt_pro.index, y=cnt_pro.values, alpha=0.8)\n",
    "plt.ylabel('Number of Occurrences', fontsize=12)\n",
    "plt.xlabel('Product', fontsize=12)\n",
    "plt.xticks(rotation=90)\n",
    "plt.show();"
   ]
  },
  {
   "cell_type": "markdown",
   "id": "017dddea",
   "metadata": {},
   "source": [
    "#The classes are imbalanced, however, a naive classifier that predicts everything to be Debt collection will only achieve over 20% accuracy."
   ]
  },
  {
   "cell_type": "code",
   "execution_count": 5,
   "id": "0f47f307",
   "metadata": {},
   "outputs": [
    {
     "name": "stdout",
     "output_type": "stream",
     "text": [
      "Recently, I filed a complaint with this agency as to false, fraudulent, inaccurate and misleading information Experian credit reporting agency was reporting on my Experian credit report. Specifically, a creditor, XXXXXXXX XXXX XXXXXXXX. Experian was reporting this creditor that was included in a bankruptcy in XXXX as charged off, written off and past due as of XX/XX/XXXX, XX/XX/XXXX and recently XX/XX/XXXX with a balance of {$9200.00}. This false an inaccurate statement by Experian just started in XX/XX/XXXX. Doing this, Experian caused my fico score to drop XXXX points, from XXXX to XXXX, which caused me to pay higher insurance premiums, be denied credit card increase requests and credit denials. Since my XXXX complaint with your agency, dated XX/XX/XXXX then again with additional evidence and information on XX/XX/XXXX ( see attached two complaint ID # s ) Experian representative XXXX XXXX, a Senior Regulatory Affairs Associate wrote back to the XXXX  on XX/XX/XXXX ( see attached letter dated XX/XX/XXXX ) that Experian has contacted the creditor in question, confirming the creditor was included in a bankruptcy. XXXX XXXX goes on to say, Additionally, our records indicate that we have contacted the creditor to verify the accuracy of the information which the consumer disagrees. The disputed information was verified as accurately reported and confirmation was mailed to the above named consumer for review. This information of verification of accuracy of reporting from XXXXXXXX XXXX XXXX XXXXs written off, charged off, past due as of XX/XX/XXXX, XX/XX/XXXX and XX/XX/XXXX with a balance of {$9200.00} was somehow accurate and verified was a lie! This response was 100 % false and deliberately misleading. ( see attached outcome by Experian as to This item remains unchanged from our processing of your dispute in XX/XX/XXXX. After receiving this message, knowing the response was untrue and Experian continued to report this inaccurate, misleading information and responding the information will be unchanged, I filed a complaint with the your agency against Experian. Two complaints combined into one, 1st complaint ID # XXXX on XX/XX/XXXX and prior ID # XXXX filed on XX/XX/XXXX. A parallel investigation with the XXXX XXXX XXXX was also conducted. With the now abundant amount of additional evidence provided by me to you and the XXXX, on XX/XX/XXXX I received an email notification update status from Experian. ( See attached screenshot of now, this disputed creditor, XXXX XXXX  was deleted and removed from my Experian credit report.. Then on XX/XX/XXXX Experian, XXXX XXXX XXXX XXXX XXXX Senior Regulatory Affairs Associate wrote to the XXXX  ( see attached screenshot of letter ). XXXX XXXX replied, Our records indicate the disputed information does not appear on the consumers current Experian credit report. We have mailed a copy of the current credit report directly to the consumer for review. \n",
      "No explanation as to why did the Senior Regulatory Affairs Associate 1st responded with a false statement, response as to Experian contacted the creditor, verified and confirmed the accuracy of the disputed claim of mine with a balance of {$9200.00} and is updated as past due, as of XX/XX/XXXX and this item will remain unchanged?? But, when challenged with additional evidence, this Senior Regulatory Affairs Associate now just submits a recent response of The disputed information does not appear on the current consumers Experian credit report to the XXXX  dated XX/XX/XXXX. This dispute of false and misleading information on my Experian credit report only, not XXXX or XXXX, just Experian is reporting this suddenly in XX/XX/XXXX destroyed my good credit of XXXX to XXXX by this false, misleading and fraudulent information of a debtor, XXXX XXXX  XXXX as accurately reported with a balance and past due as of XXXX, XXXX and XX/XX/XXXX it unacceptable, false and fraudulent reporting by Experian then when the consumer tries to dispute false information, the most senior Experian official, XXXX XXXX XXXX, the Regulatory Affairs Associate concurred with a false report of verified information and confirmed as accurate is alarming as this person is a Regulatory Authority person, in charge of compliance and verification of such claims, its just outrageous. Im filing this complaint now directly to Experians Regulatory Affairs Associate, XXXX XXXX XXXX as to this incident. I want a full explanation of her actions as to Experians verification and confirmation and response as reported as accurately with additional details on credit report that the disputed item will remain unchanged. Then, her response as to now suddenly changing the status to It doesnt appear on the consumers current Experian credit report Why the change, why just a general response as the disputed item does not appear currently. This is either ignorance or neglect from a Senior level Regulatory Associate, trusted to insure integrity, compliance and transparency with the American citizens and consumers in securing their privacy and security is being protected and accurately reported. If Experians Regulatory Affairs Associate is unwilling or will not provide a satisfactory, comprehensive response, Im asking the bureau to investigate Experian and its employees for non compliance practices and possible violations per the governments oversight committee. \n",
      "\n",
      "Respectfully Submitted, XXXX XXXX\n",
      "Product: Credit reporting, credit repair services, or other personal consumer reports\n"
     ]
    }
   ],
   "source": [
    "def print_complaint(index):\n",
    "    example = df[df.index == index][['narrative', 'Product']].values[0]\n",
    "    if len(example) > 0:\n",
    "        print(example[0])\n",
    "        print('Product:', example[1])\n",
    "\n",
    "print_complaint(12)"
   ]
  },
  {
   "cell_type": "code",
   "execution_count": 6,
   "id": "6ac7ad2f",
   "metadata": {},
   "outputs": [
    {
     "name": "stdout",
     "output_type": "stream",
     "text": [
      "The current issue is causing me significant distress and is having a negative impact on my sleep. It is challenging for me to accept this situation.\n",
      "Product: Credit card or prepaid card\n"
     ]
    }
   ],
   "source": [
    "print_complaint(20)"
   ]
  },
  {
   "cell_type": "markdown",
   "id": "33b8f05c",
   "metadata": {},
   "source": [
    "#Text Preprocessing\n",
    "\n",
    "*Below we define a function to convert text to lower-case and strip punctuation/symbols from words and so on."
   ]
  },
  {
   "cell_type": "code",
   "execution_count": 7,
   "id": "79bdff41",
   "metadata": {},
   "outputs": [
    {
     "name": "stderr",
     "output_type": "stream",
     "text": [
      "/var/folders/6_/d50lgm19265fhn6q8znq45040000gn/T/ipykernel_79398/616686574.py:3: MarkupResemblesLocatorWarning: The input looks more like a filename than markup. You may want to open this file and pass the filehandle into Beautiful Soup.\n",
      "  text = BeautifulSoup(text, \"lxml\").text\n"
     ]
    }
   ],
   "source": [
    "from bs4 import BeautifulSoup\n",
    "def cleanText(text):\n",
    "    text = BeautifulSoup(text, \"lxml\").text\n",
    "    text = re.sub(r'\\|\\|\\|', r' ', text) \n",
    "    text = re.sub(r'http\\S+', r'<URL>', text)\n",
    "    text = text.lower()\n",
    "    text = text.replace('x', '')\n",
    "    return text\n",
    "df['narrative'] = df['narrative'].apply(cleanText)"
   ]
  },
  {
   "cell_type": "markdown",
   "id": "aca07e88",
   "metadata": {},
   "source": [
    "#The following steps include train/test split of 70/30, remove stop-words and tokenize text using NLTK tokenizer. For our first try we tag every complaint narrative with its product."
   ]
  },
  {
   "cell_type": "code",
   "execution_count": 8,
   "id": "78626c25",
   "metadata": {},
   "outputs": [],
   "source": [
    "train, test = train_test_split(df, test_size=0.3, random_state=42)"
   ]
  },
  {
   "cell_type": "code",
   "execution_count": 9,
   "id": "a47ed61a",
   "metadata": {},
   "outputs": [],
   "source": [
    "import nltk\n",
    "from nltk.corpus import stopwords"
   ]
  },
  {
   "cell_type": "code",
   "execution_count": 10,
   "id": "7ef24687",
   "metadata": {},
   "outputs": [],
   "source": [
    "def tokenize_text(text):\n",
    "    tokens = []\n",
    "    for sent in nltk.sent_tokenize(text):\n",
    "        for word in nltk.word_tokenize(sent):\n",
    "            if len(word) < 2:\n",
    "                continue\n",
    "            tokens.append(word.lower())\n",
    "    return tokens"
   ]
  },
  {
   "cell_type": "code",
   "execution_count": 11,
   "id": "5d4224d4",
   "metadata": {},
   "outputs": [],
   "source": [
    "#This step takes a very long time if it is run on a CPU\n",
    "# Make use of TPUs or GPUs\n",
    "#Hardware support accelerates tagging of all the words in the dataset.\n",
    "\n",
    "train_tagged = train.apply(\n",
    "    lambda r: TaggedDocument(words=tokenize_text(r['narrative']), tags=[r.Product]), axis=1)"
   ]
  },
  {
   "cell_type": "code",
   "execution_count": 12,
   "id": "159635a4",
   "metadata": {},
   "outputs": [],
   "source": [
    "test_tagged = test.apply(\n",
    "    lambda r: TaggedDocument(words=tokenize_text(r['narrative']), tags=[r.Product]), axis=1)"
   ]
  },
  {
   "cell_type": "code",
   "execution_count": 13,
   "id": "03e1a65b",
   "metadata": {},
   "outputs": [
    {
     "data": {
      "text/plain": [
       "TaggedDocument(words=['my', 'wallet', 'was', 'stolen', 'with', 'my', 'id', 'ss-card', 'bank', 'card', 'cash', 'and', 'more', 'person', 'information', 'the', 'wallet', 'was', 'sent', 'back', 'to', 'me', 'from', 'florida', 'with', 'only', 'the', 'id', 'and', 'bank', 'cards', 'went', 'to', 'the', 'bank', 'and', 'cancel', 'the', 'cards', 'and', 'got', 'replacement', 'started', 'receiving', 'calls', 'about', 'collecting', 'debt', 'thought', 'it', 'was', 'scam', 'call', 'so', 'never', 'took', 'it', 'into', 'consideration', 'that', 'it', 'was', 'real', 'then', 'seen', 'on', 'my', 'credit', 'that', 'another', 'card', 'was', 'open', 'and', 'using', 'my', 'address', 'and', 'information', 'contact', 'the', 'credit', 'bureaus', 'and', 'file', 'dispute', 'and', 'contact', 'and', 'told', 'them', 'my', 'identity', 'was', 'stolen', 'back', 'in', '//', 'and', 'that', 'never', 'open', 'the', 'account', 'and', 'they', 'didnt', 'cancel', 'the', 'account', 'they', 'told', 'me', 'to', 'send', 'them', 'the', 'documents', 'have', 'when', 'filed', 'the', 'police', 'report', 'and', 'sent', 'it', 'and', 'they', 'still', 'havent', 'did', 'anything', 'about', 'it', 'my', 'credit', 'have', 'been', 'effect', 'bad', 'because', 'of', 'the', 'account', 'they', 'have', 'on', 'my', 'account', 'even', 'sent', 'them', 'proof', 'that', 'was', 'working', 'at', 'the', 'time', 'and', 'that', 'travel', 'for', 'work', 'and', 'been', 'working', 'since', '//', 'to', '//', 'can', 'someone', 'please', 'help', 'immediately', 'because', 'im', 'trying', 'to', 'start', 'business', 'and', 'cant', 'with', 'bad', 'credit'], tags=['Credit reporting, credit repair services, or other personal consumer reports'])"
      ]
     },
     "execution_count": 13,
     "metadata": {},
     "output_type": "execute_result"
    }
   ],
   "source": [
    "train_tagged.values[30]"
   ]
  },
  {
   "cell_type": "markdown",
   "id": "8cb76bab",
   "metadata": {},
   "source": [
    "Set-up Doc2Vec Training & Evaluation Models"
   ]
  },
  {
   "cell_type": "markdown",
   "id": "845adb2e",
   "metadata": {},
   "source": [
    "We will vary the following parameters:\n",
    "\n",
    "    If dm=0, distributed bag of words (PV-DBOW) is used; if dm=1,‘distributed memory’ (PV-DM) is used.\n",
    "    300- dimensional feature vectors.\n",
    "    min_count=2, ignores all words with total frequency lower than this.\n",
    "    negative=5 , specifies how many “noise words” should be drawn.\n",
    "    hs=0 , and negative is non-zero, negative sampling will be used.\n",
    "    sample=0 , the threshold for configuring which higher-frequency words are randomly down sampled.\n",
    "    workers=cores , use these many worker threads to train the model (=faster training with multicore machines)."
   ]
  },
  {
   "cell_type": "code",
   "execution_count": 14,
   "id": "a5ac92f6",
   "metadata": {},
   "outputs": [],
   "source": [
    "import multiprocessing\n",
    "cores = multiprocessing.cpu_count()"
   ]
  },
  {
   "cell_type": "markdown",
   "id": "025c6a3d",
   "metadata": {},
   "source": [
    "#Building a Vocabulary"
   ]
  },
  {
   "cell_type": "code",
   "execution_count": 15,
   "id": "3ba6489d",
   "metadata": {},
   "outputs": [
    {
     "name": "stderr",
     "output_type": "stream",
     "text": [
      "100%|████████████████████████████| 1015224/1015224 [00:00<00:00, 1897043.16it/s]\n"
     ]
    }
   ],
   "source": [
    "model_dbow = Doc2Vec(dm=0, vector_size=300, negative=5, hs=0, \n",
    "                     min_count=2, sample = 0, workers=cores)\n",
    "model_dbow.build_vocab([x for x in tqdm(train_tagged.values)])"
   ]
  },
  {
   "cell_type": "markdown",
   "id": "bac342a9",
   "metadata": {},
   "source": [
    "#Training a doc2vec model is rather straight-forward in Gensim, we initialize the model and train for 30 epochs."
   ]
  },
  {
   "cell_type": "code",
   "execution_count": 16,
   "id": "c971ba4f",
   "metadata": {},
   "outputs": [
    {
     "name": "stderr",
     "output_type": "stream",
     "text": [
      "100%|████████████████████████████| 1015224/1015224 [00:00<00:00, 3076117.04it/s]\n",
      "100%|████████████████████████████| 1015224/1015224 [00:00<00:00, 5021785.92it/s]\n",
      "100%|████████████████████████████| 1015224/1015224 [00:00<00:00, 4581541.62it/s]\n",
      "100%|████████████████████████████| 1015224/1015224 [00:00<00:00, 4556782.25it/s]\n",
      "100%|████████████████████████████| 1015224/1015224 [00:00<00:00, 4578398.76it/s]\n",
      "100%|████████████████████████████| 1015224/1015224 [00:00<00:00, 4540277.29it/s]\n",
      "100%|████████████████████████████| 1015224/1015224 [00:00<00:00, 4514409.51it/s]\n",
      "100%|████████████████████████████| 1015224/1015224 [00:00<00:00, 4661759.21it/s]\n",
      "100%|████████████████████████████| 1015224/1015224 [00:00<00:00, 4654253.69it/s]\n",
      "100%|████████████████████████████| 1015224/1015224 [00:00<00:00, 4814268.71it/s]\n",
      "100%|████████████████████████████| 1015224/1015224 [00:00<00:00, 4564817.99it/s]\n",
      "100%|████████████████████████████| 1015224/1015224 [00:00<00:00, 4829206.98it/s]\n",
      "100%|████████████████████████████| 1015224/1015224 [00:00<00:00, 3683247.37it/s]\n",
      "100%|████████████████████████████| 1015224/1015224 [00:00<00:00, 4643569.73it/s]\n",
      "100%|████████████████████████████| 1015224/1015224 [00:00<00:00, 4529883.12it/s]\n",
      "100%|████████████████████████████| 1015224/1015224 [00:00<00:00, 4720215.23it/s]\n",
      "100%|████████████████████████████| 1015224/1015224 [00:00<00:00, 4438396.95it/s]\n",
      "100%|████████████████████████████| 1015224/1015224 [00:00<00:00, 4755864.01it/s]\n",
      "100%|████████████████████████████| 1015224/1015224 [00:00<00:00, 4915934.73it/s]\n",
      "100%|████████████████████████████| 1015224/1015224 [00:00<00:00, 5019500.93it/s]\n",
      "100%|████████████████████████████| 1015224/1015224 [00:00<00:00, 4944636.85it/s]\n",
      "100%|████████████████████████████| 1015224/1015224 [00:00<00:00, 5008154.22it/s]\n",
      "100%|████████████████████████████| 1015224/1015224 [00:00<00:00, 4994162.85it/s]\n",
      "100%|████████████████████████████| 1015224/1015224 [00:00<00:00, 5042785.21it/s]\n",
      "100%|████████████████████████████| 1015224/1015224 [00:00<00:00, 5086062.20it/s]\n",
      "100%|████████████████████████████| 1015224/1015224 [00:00<00:00, 4975971.88it/s]\n",
      "100%|████████████████████████████| 1015224/1015224 [00:00<00:00, 2722182.78it/s]\n",
      "100%|████████████████████████████| 1015224/1015224 [00:00<00:00, 2392878.32it/s]\n",
      "100%|████████████████████████████| 1015224/1015224 [00:00<00:00, 1669831.21it/s]\n",
      "100%|████████████████████████████| 1015224/1015224 [00:00<00:00, 2652142.55it/s]\n"
     ]
    },
    {
     "name": "stdout",
     "output_type": "stream",
     "text": [
      "CPU times: user 2h 40min 28s, sys: 41min 12s, total: 3h 21min 41s\n",
      "Wall time: 3h 40min 57s\n"
     ]
    }
   ],
   "source": [
    "%%time\n",
    "for epoch in range(30):\n",
    "    model_dbow.train(utils.shuffle([x for x in tqdm(train_tagged.values)]), total_examples=len(train_tagged.values), epochs=1)\n",
    "    model_dbow.alpha -= 0.002\n",
    "    model_dbow.min_alpha = model_dbow.alpha"
   ]
  },
  {
   "cell_type": "markdown",
   "id": "3423ba78",
   "metadata": {},
   "source": [
    "#Building the Final Vector Feature for the Classifier"
   ]
  },
  {
   "cell_type": "code",
   "execution_count": 20,
   "id": "ef9cf4a5",
   "metadata": {},
   "outputs": [],
   "source": [
    "def vec_for_learning(model, tagged_docs):\n",
    "    sents = tagged_docs.values\n",
    "    targets, regressors = zip(*[(doc.tags[0], model.infer_vector(doc.words, epochs=20)) for doc in sents])\n",
    "    return targets, regressors\n",
    "\n",
    "#def vec_for_learning(model, tagged_docs):\n",
    "    #sents = tagged_docs.values\n",
    "    #targets, regressors = zip(*[(doc.tags[0], model.infer_vector(doc.words, steps=20)) for doc in sents])\n",
    "    #return targets, regressors"
   ]
  },
  {
   "cell_type": "code",
   "execution_count": 21,
   "id": "2f42abb7",
   "metadata": {},
   "outputs": [
    {
     "name": "stderr",
     "output_type": "stream",
     "text": [
      "/Users/zaarr/opt/anaconda3/envs/Tensorflow_env/lib/python3.9/site-packages/sklearn/linear_model/_logistic.py:458: ConvergenceWarning: lbfgs failed to converge (status=1):\n",
      "STOP: TOTAL NO. of ITERATIONS REACHED LIMIT.\n",
      "\n",
      "Increase the number of iterations (max_iter) or scale the data as shown in:\n",
      "    https://scikit-learn.org/stable/modules/preprocessing.html\n",
      "Please also refer to the documentation for alternative solver options:\n",
      "    https://scikit-learn.org/stable/modules/linear_model.html#logistic-regression\n",
      "  n_iter_i = _check_optimize_result(\n"
     ]
    },
    {
     "name": "stdout",
     "output_type": "stream",
     "text": [
      "Testing accuracy 0.5216228142754702\n",
      "Testing F1 score: 0.3587871807184659\n"
     ]
    }
   ],
   "source": [
    "#Train the Logistic Regression Classifier.\n",
    "y_train, X_train = vec_for_learning(model_dbow, train_tagged)\n",
    "y_test, X_test = vec_for_learning(model_dbow, test_tagged)\n",
    "logreg = LogisticRegression(n_jobs=1, C=1e5)\n",
    "logreg.fit(X_train, y_train)\n",
    "y_pred = logreg.predict(X_test)\n"
   ]
  },
  {
   "cell_type": "code",
   "execution_count": 22,
   "id": "ad34e196",
   "metadata": {},
   "outputs": [
    {
     "name": "stdout",
     "output_type": "stream",
     "text": [
      "Testing accuracy 0.5216228142754702\n",
      "Testing F1 score: 0.3587871807184659\n"
     ]
    }
   ],
   "source": [
    "from sklearn.metrics import accuracy_score, f1_score\n",
    "print('Testing accuracy %s' % accuracy_score(y_test, y_pred))\n",
    "print('Testing F1 score: {}'.format(f1_score(y_test, y_pred, average='weighted')))"
   ]
  },
  {
   "cell_type": "code",
   "execution_count": 23,
   "id": "9740ad22",
   "metadata": {},
   "outputs": [
    {
     "name": "stderr",
     "output_type": "stream",
     "text": [
      "100%|█████████████████████████████| 1015224/1015224 [00:01<00:00, 571970.44it/s]\n"
     ]
    }
   ],
   "source": [
    "#Distributed Memory (DM)\n",
    "model_dmm = Doc2Vec(dm=1, dm_mean=1, vector_size=300, window=10, negative=5, \n",
    "                    min_count=1, workers=5, alpha=0.065, min_alpha=0.065)\n",
    "model_dmm.build_vocab([x for x in tqdm(train_tagged.values)])\n",
    "\n"
   ]
  },
  {
   "cell_type": "code",
   "execution_count": 24,
   "id": "05e8936e",
   "metadata": {},
   "outputs": [
    {
     "name": "stderr",
     "output_type": "stream",
     "text": [
      "100%|████████████████████████████| 1015224/1015224 [00:00<00:00, 3424930.67it/s]\n",
      "100%|████████████████████████████| 1015224/1015224 [00:00<00:00, 4974809.20it/s]\n",
      "100%|████████████████████████████| 1015224/1015224 [00:00<00:00, 4461481.17it/s]\n",
      "100%|████████████████████████████| 1015224/1015224 [00:00<00:00, 2591523.44it/s]\n",
      "100%|████████████████████████████| 1015224/1015224 [00:00<00:00, 4272325.11it/s]\n",
      "100%|████████████████████████████| 1015224/1015224 [00:00<00:00, 2536246.84it/s]\n",
      "100%|████████████████████████████| 1015224/1015224 [00:00<00:00, 2888255.58it/s]\n",
      "100%|████████████████████████████| 1015224/1015224 [00:00<00:00, 3887933.50it/s]\n",
      "100%|████████████████████████████| 1015224/1015224 [00:00<00:00, 2278520.36it/s]\n",
      "100%|████████████████████████████| 1015224/1015224 [00:00<00:00, 4123960.29it/s]\n",
      "100%|████████████████████████████| 1015224/1015224 [00:00<00:00, 3626955.41it/s]\n",
      "100%|████████████████████████████| 1015224/1015224 [00:00<00:00, 3909037.99it/s]\n",
      "100%|████████████████████████████| 1015224/1015224 [00:00<00:00, 4087791.21it/s]\n",
      "100%|████████████████████████████| 1015224/1015224 [00:00<00:00, 3721440.74it/s]\n",
      "100%|████████████████████████████| 1015224/1015224 [00:00<00:00, 3771686.02it/s]\n",
      "100%|████████████████████████████| 1015224/1015224 [00:00<00:00, 3196246.68it/s]\n",
      "100%|████████████████████████████| 1015224/1015224 [00:00<00:00, 4502918.73it/s]\n",
      "100%|████████████████████████████| 1015224/1015224 [00:00<00:00, 3240666.56it/s]\n",
      "100%|████████████████████████████| 1015224/1015224 [00:00<00:00, 3272679.13it/s]\n",
      "100%|████████████████████████████| 1015224/1015224 [00:00<00:00, 3613824.09it/s]\n",
      "100%|████████████████████████████| 1015224/1015224 [00:00<00:00, 4099830.82it/s]\n",
      "100%|████████████████████████████| 1015224/1015224 [00:00<00:00, 3385773.03it/s]\n",
      "100%|████████████████████████████| 1015224/1015224 [00:00<00:00, 2358950.51it/s]\n",
      "100%|████████████████████████████| 1015224/1015224 [00:00<00:00, 2699848.64it/s]\n",
      "100%|████████████████████████████| 1015224/1015224 [00:00<00:00, 3883837.69it/s]\n",
      "100%|████████████████████████████| 1015224/1015224 [00:00<00:00, 2832353.94it/s]\n",
      "100%|████████████████████████████| 1015224/1015224 [00:00<00:00, 4585656.50it/s]\n",
      "100%|████████████████████████████| 1015224/1015224 [00:00<00:00, 3996176.73it/s]\n",
      "100%|████████████████████████████| 1015224/1015224 [00:00<00:00, 2999811.96it/s]\n",
      "100%|████████████████████████████| 1015224/1015224 [00:00<00:00, 2335195.03it/s]\n"
     ]
    },
    {
     "name": "stdout",
     "output_type": "stream",
     "text": [
      "CPU times: user 4h 57min 40s, sys: 37min 29s, total: 5h 35min 9s\n",
      "Wall time: 14h 48min 18s\n"
     ]
    }
   ],
   "source": [
    "%%time\n",
    "for epoch in range(30):\n",
    "    model_dmm.train(utils.shuffle([x for x in tqdm(train_tagged.values)]), \n",
    "                    total_examples=len(train_tagged.values), epochs=1)\n",
    "    model_dmm.alpha -= 0.002\n",
    "    model_dmm.min_alpha = model_dmm.alpha"
   ]
  },
  {
   "cell_type": "code",
   "execution_count": null,
   "id": "04560746",
   "metadata": {},
   "outputs": [],
   "source": []
  }
 ],
 "metadata": {
  "kernelspec": {
   "display_name": "Python 3 (ipykernel)",
   "language": "python",
   "name": "python3"
  },
  "language_info": {
   "codemirror_mode": {
    "name": "ipython",
    "version": 3
   },
   "file_extension": ".py",
   "mimetype": "text/x-python",
   "name": "python",
   "nbconvert_exporter": "python",
   "pygments_lexer": "ipython3",
   "version": "3.9.16"
  }
 },
 "nbformat": 4,
 "nbformat_minor": 5
}

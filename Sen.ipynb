{
 "cells": [
  {
   "cell_type": "code",
   "execution_count": 2,
   "id": "784c4f2b",
   "metadata": {},
   "outputs": [
    {
     "name": "stdout",
     "output_type": "stream",
     "text": [
      "Accuracy: 0.8328328328328328\n",
      "Classification Report:\n",
      "                                     precision    recall  f1-score   support\n",
      "\n",
      "                         age_limit       1.00      1.00      1.00        40\n",
      "                  automatic_top_up       0.90      0.95      0.93        40\n",
      "                   cancel_transfer       0.95      0.97      0.96        40\n",
      "                   card_acceptance       1.00      0.21      0.34        39\n",
      "                      card_arrival       0.71      0.85      0.77        40\n",
      "            card_delivery_estimate       0.91      0.80      0.85        40\n",
      "                      card_linking       0.71      1.00      0.83        40\n",
      "                  card_not_working       0.52      0.85      0.65        40\n",
      "          card_payment_fee_charged       0.61      0.93      0.73        40\n",
      "  card_payment_wrong_exchange_rate       0.84      0.95      0.89        40\n",
      "           contactless_not_working       1.00      0.03      0.05        40\n",
      "                     exchange_rate       1.00      0.85      0.92        40\n",
      "                  exchange_via_app       0.90      0.88      0.89        40\n",
      "         extra_charge_on_statement       0.90      0.88      0.89        40\n",
      "             fiat_currency_support       0.91      0.78      0.84        40\n",
      "              getting_virtual_card       1.00      0.90      0.95        40\n",
      "               lost_or_stolen_card       1.00      0.68      0.81        40\n",
      "               order_physical_card       0.00      0.00      0.00         0\n",
      "           pending_cash_withdrawal       0.95      0.97      0.96        40\n",
      "                    pending_top_up       0.86      0.90      0.88        40\n",
      "                       pin_blocked       0.97      0.88      0.92        40\n",
      "    supported_cards_and_currencies       0.63      0.97      0.76        40\n",
      "    top_up_by_bank_transfer_charge       1.00      0.90      0.95        40\n",
      "                     top_up_limits       0.97      0.88      0.92        40\n",
      "                   top_up_reverted       0.00      0.00      0.00         0\n",
      "transfer_not_received_by_recipient       0.80      0.90      0.85        40\n",
      "     wrong_amount_of_cash_received       0.86      0.93      0.89        40\n",
      "\n",
      "                          accuracy                           0.83       999\n",
      "                         macro avg       0.81      0.77      0.76       999\n",
      "                      weighted avg       0.88      0.83      0.82       999\n",
      "\n"
     ]
    },
    {
     "name": "stderr",
     "output_type": "stream",
     "text": [
      "/Users/zaarr/opt/anaconda3/envs/Tensorflow_env/lib/python3.9/site-packages/sklearn/metrics/_classification.py:1344: UndefinedMetricWarning: Recall and F-score are ill-defined and being set to 0.0 in labels with no true samples. Use `zero_division` parameter to control this behavior.\n",
      "  _warn_prf(average, modifier, msg_start, len(result))\n",
      "/Users/zaarr/opt/anaconda3/envs/Tensorflow_env/lib/python3.9/site-packages/sklearn/metrics/_classification.py:1344: UndefinedMetricWarning: Recall and F-score are ill-defined and being set to 0.0 in labels with no true samples. Use `zero_division` parameter to control this behavior.\n",
      "  _warn_prf(average, modifier, msg_start, len(result))\n",
      "/Users/zaarr/opt/anaconda3/envs/Tensorflow_env/lib/python3.9/site-packages/sklearn/metrics/_classification.py:1344: UndefinedMetricWarning: Recall and F-score are ill-defined and being set to 0.0 in labels with no true samples. Use `zero_division` parameter to control this behavior.\n",
      "  _warn_prf(average, modifier, msg_start, len(result))\n"
     ]
    }
   ],
   "source": [
    "import pandas as pd\n",
    "from sklearn.model_selection import train_test_split\n",
    "from sklearn.feature_extraction.text import TfidfVectorizer\n",
    "from sklearn.naive_bayes import MultinomialNB\n",
    "from sklearn.metrics import accuracy_score, classification_report\n",
    "\n",
    "# Load the dataset into Pandas DataFrames\n",
    "train_df = pd.read_csv('nlptrain1.csv')\n",
    "test_df = pd.read_csv('nlptest1.csv')\n",
    "\n",
    "# Define the features and target variable\n",
    "X_train = train_df['text']\n",
    "y_train = train_df['category']\n",
    "X_test = test_df['text']\n",
    "y_test = test_df['category']\n",
    "\n",
    "# Create a TF-IDF vectorizer to convert text data into numerical features\n",
    "tfidf_vectorizer = TfidfVectorizer(max_features=5000)  # You can adjust max_features as needed\n",
    "\n",
    "# Transform the text data into TF-IDF vectors\n",
    "X_train_tfidf = tfidf_vectorizer.fit_transform(X_train)\n",
    "X_test_tfidf = tfidf_vectorizer.transform(X_test)\n",
    "\n",
    "# Train a classifier (e.g., Naive Bayes) on the TF-IDF features\n",
    "clf = MultinomialNB()\n",
    "clf.fit(X_train_tfidf, y_train)\n",
    "\n",
    "# Make predictions on the test data\n",
    "y_pred = clf.predict(X_test_tfidf)\n",
    "\n",
    "# Evaluate the model\n",
    "accuracy = accuracy_score(y_test, y_pred)\n",
    "classification_report_str = classification_report(y_test, y_pred)\n",
    "\n",
    "print(f'Accuracy: {accuracy}')\n",
    "print('Classification Report:\\n', classification_report_str)"
   ]
  },
  {
   "cell_type": "code",
   "execution_count": 6,
   "id": "3184ce4f",
   "metadata": {},
   "outputs": [
    {
     "name": "stdout",
     "output_type": "stream",
     "text": [
      "Epoch 1/5\n",
      "88/88 [==============================] - 2s 11ms/step - loss: 3.1358 - accuracy: 0.1065 - val_loss: 5.4375 - val_accuracy: 0.0000e+00\n",
      "Epoch 2/5\n",
      "88/88 [==============================] - 1s 8ms/step - loss: 2.3607 - accuracy: 0.4720 - val_loss: 7.3064 - val_accuracy: 0.0014\n",
      "Epoch 3/5\n",
      "88/88 [==============================] - 0s 3ms/step - loss: 1.0476 - accuracy: 0.8128 - val_loss: 10.1735 - val_accuracy: 0.0643\n",
      "Epoch 4/5\n",
      "88/88 [==============================] - 0s 3ms/step - loss: 0.4471 - accuracy: 0.9185 - val_loss: 11.7392 - val_accuracy: 0.0929\n",
      "Epoch 5/5\n",
      "88/88 [==============================] - 0s 5ms/step - loss: 0.2378 - accuracy: 0.9586 - val_loss: 12.5702 - val_accuracy: 0.0957\n",
      "32/32 [==============================] - 0s 1ms/step\n",
      "Accuracy: 0.8118118118118118\n",
      "Classification Report:\n",
      "                                     precision    recall  f1-score   support\n",
      "\n",
      "                         age_limit       0.97      0.97      0.97        40\n",
      "                  automatic_top_up       0.90      0.95      0.93        40\n",
      "                   cancel_transfer       0.93      0.95      0.94        40\n",
      "                   card_acceptance       0.00      0.00      0.00        39\n",
      "                      card_arrival       0.58      0.88      0.70        40\n",
      "            card_delivery_estimate       0.62      0.93      0.74        40\n",
      "                      card_linking       0.93      1.00      0.96        40\n",
      "                  card_not_working       0.66      0.95      0.78        40\n",
      "          card_payment_fee_charged       0.90      0.90      0.90        40\n",
      "  card_payment_wrong_exchange_rate       1.00      0.93      0.96        40\n",
      "           contactless_not_working       0.97      0.75      0.85        40\n",
      "                     exchange_rate       0.95      0.95      0.95        40\n",
      "                  exchange_via_app       0.82      0.82      0.82        40\n",
      "         extra_charge_on_statement       0.90      0.93      0.91        40\n",
      "             fiat_currency_support       0.57      0.88      0.69        40\n",
      "              getting_virtual_card       0.00      0.00      0.00        40\n",
      "               lost_or_stolen_card       0.49      0.93      0.64        40\n",
      "           pending_cash_withdrawal       0.97      0.93      0.95        40\n",
      "                    pending_top_up       0.95      0.93      0.94        40\n",
      "                       pin_blocked       1.00      0.90      0.95        40\n",
      "    supported_cards_and_currencies       0.00      0.00      0.00        40\n",
      "    top_up_by_bank_transfer_charge       0.97      0.93      0.95        40\n",
      "                     top_up_limits       0.93      1.00      0.96        40\n",
      "transfer_not_received_by_recipient       0.67      0.97      0.80        40\n",
      "     wrong_amount_of_cash_received       1.00      0.93      0.96        40\n",
      "\n",
      "                          accuracy                           0.81       999\n",
      "                         macro avg       0.75      0.81      0.77       999\n",
      "                      weighted avg       0.75      0.81      0.77       999\n",
      "\n"
     ]
    },
    {
     "name": "stderr",
     "output_type": "stream",
     "text": [
      "/Users/zaarr/opt/anaconda3/envs/Tensorflow_env/lib/python3.9/site-packages/sklearn/metrics/_classification.py:1344: UndefinedMetricWarning: Precision and F-score are ill-defined and being set to 0.0 in labels with no predicted samples. Use `zero_division` parameter to control this behavior.\n",
      "  _warn_prf(average, modifier, msg_start, len(result))\n",
      "/Users/zaarr/opt/anaconda3/envs/Tensorflow_env/lib/python3.9/site-packages/sklearn/metrics/_classification.py:1344: UndefinedMetricWarning: Precision and F-score are ill-defined and being set to 0.0 in labels with no predicted samples. Use `zero_division` parameter to control this behavior.\n",
      "  _warn_prf(average, modifier, msg_start, len(result))\n",
      "/Users/zaarr/opt/anaconda3/envs/Tensorflow_env/lib/python3.9/site-packages/sklearn/metrics/_classification.py:1344: UndefinedMetricWarning: Precision and F-score are ill-defined and being set to 0.0 in labels with no predicted samples. Use `zero_division` parameter to control this behavior.\n",
      "  _warn_prf(average, modifier, msg_start, len(result))\n"
     ]
    }
   ],
   "source": [
    "import pandas as pd\n",
    "import numpy as np\n",
    "import tensorflow as tf\n",
    "from tensorflow import keras\n",
    "from sklearn.model_selection import train_test_split\n",
    "from sklearn.preprocessing import LabelEncoder\n",
    "from sklearn.metrics import accuracy_score, classification_report\n",
    "\n",
    "# Load the dataset into Pandas DataFrames\n",
    "train_df = pd.read_csv('nlptrain1.csv')\n",
    "test_df = pd.read_csv('nlptest1.csv')\n",
    "\n",
    "# Define the features and target variable\n",
    "X_train = train_df['text']\n",
    "y_train = train_df['category']\n",
    "X_test = test_df['text']\n",
    "y_test = test_df['category']\n",
    "\n",
    "# Encode the target labels into numerical values\n",
    "label_encoder = LabelEncoder()\n",
    "y_train_encoded = label_encoder.fit_transform(y_train)\n",
    "y_test_encoded = label_encoder.transform(y_test)\n",
    "\n",
    "# Create a TF-IDF vectorizer to convert text data into numerical features (optional)\n",
    "# You can choose to use TF-IDF or other text vectorization techniques here\n",
    "\n",
    "# Tokenization and vectorization (convert text to numerical features)\n",
    "tokenizer = keras.layers.TextVectorization(max_tokens=5000)\n",
    "tokenizer.adapt(X_train.values)\n",
    "\n",
    "# Build the DNN model\n",
    "model = keras.Sequential([\n",
    "    tokenizer,\n",
    "    keras.layers.Embedding(input_dim=len(tokenizer.get_vocabulary()), output_dim=128, mask_zero=True),\n",
    "    keras.layers.GlobalMaxPooling1D(),  # Reduce dimensionality\n",
    "    keras.layers.Dense(128, activation='relu'),\n",
    "    keras.layers.Dense(len(label_encoder.classes_), activation='softmax')\n",
    "])\n",
    "\n",
    "# Compile the model\n",
    "model.compile(optimizer='adam', loss='sparse_categorical_crossentropy', metrics=['accuracy'])\n",
    "\n",
    "# Train the model\n",
    "model.fit(X_train, y_train_encoded, epochs=5, batch_size=32, validation_split=0.2)\n",
    "\n",
    "# Evaluate the model on the test data\n",
    "y_pred_encoded = model.predict(X_test)\n",
    "y_pred = np.argmax(y_pred_encoded, axis=1)\n",
    "\n",
    "# Decode the numerical predictions back to labels\n",
    "y_pred_labels = label_encoder.inverse_transform(y_pred)\n",
    "\n",
    "# Calculate accuracy and generate a classification report\n",
    "accuracy = accuracy_score(y_test, y_pred_labels)\n",
    "classification_report_str = classification_report(y_test, y_pred_labels)\n",
    "\n",
    "print(f'Accuracy: {accuracy}')\n",
    "print('Classification Report:\\n', classification_report_str)\n"
   ]
  },
  {
   "cell_type": "code",
   "execution_count": 16,
   "id": "5d147811",
   "metadata": {},
   "outputs": [
    {
     "ename": "ValueError",
     "evalue": "Exception encountered when calling layer \"attention\" \"                 f\"(type Attention).\n\nAttention layer must be called on a list of inputs, namely [query, value] or [query, value, key]. Received: Tensor(\"dense_13/BiasAdd:0\", shape=(None, 29), dtype=float32).\n\nCall arguments received by layer \"attention\" \"                 f\"(type Attention):\n  • inputs=tf.Tensor(shape=(None, 29), dtype=float32)\n  • mask=None\n  • training=None\n  • return_attention_scores=False\n  • use_causal_mask=False",
     "output_type": "error",
     "traceback": [
      "\u001b[0;31m---------------------------------------------------------------------------\u001b[0m",
      "\u001b[0;31mValueError\u001b[0m                                Traceback (most recent call last)",
      "Cell \u001b[0;32mIn[16], line 2\u001b[0m\n\u001b[1;32m      1\u001b[0m \u001b[38;5;66;03m# Build the DNN model\u001b[39;00m\n\u001b[0;32m----> 2\u001b[0m model \u001b[38;5;241m=\u001b[39m \u001b[43mkeras\u001b[49m\u001b[38;5;241;43m.\u001b[39;49m\u001b[43mSequential\u001b[49m\u001b[43m(\u001b[49m\u001b[43m[\u001b[49m\n\u001b[1;32m      3\u001b[0m \u001b[43m    \u001b[49m\u001b[43mtokenizer\u001b[49m\u001b[43m,\u001b[49m\n\u001b[1;32m      4\u001b[0m \u001b[43m    \u001b[49m\u001b[43mkeras\u001b[49m\u001b[38;5;241;43m.\u001b[39;49m\u001b[43mlayers\u001b[49m\u001b[38;5;241;43m.\u001b[39;49m\u001b[43mEmbedding\u001b[49m\u001b[43m(\u001b[49m\u001b[43minput_dim\u001b[49m\u001b[38;5;241;43m=\u001b[39;49m\u001b[38;5;28;43mlen\u001b[39;49m\u001b[43m(\u001b[49m\u001b[43mtokenizer\u001b[49m\u001b[38;5;241;43m.\u001b[39;49m\u001b[43mget_vocabulary\u001b[49m\u001b[43m(\u001b[49m\u001b[43m)\u001b[49m\u001b[43m)\u001b[49m\u001b[43m,\u001b[49m\u001b[43m \u001b[49m\u001b[43moutput_dim\u001b[49m\u001b[38;5;241;43m=\u001b[39;49m\u001b[38;5;241;43m128\u001b[39;49m\u001b[43m,\u001b[49m\u001b[43m \u001b[49m\u001b[43mmask_zero\u001b[49m\u001b[38;5;241;43m=\u001b[39;49m\u001b[38;5;28;43;01mTrue\u001b[39;49;00m\u001b[43m)\u001b[49m\u001b[43m,\u001b[49m\n\u001b[1;32m      5\u001b[0m \u001b[43m    \u001b[49m\u001b[43mkeras\u001b[49m\u001b[38;5;241;43m.\u001b[39;49m\u001b[43mlayers\u001b[49m\u001b[38;5;241;43m.\u001b[39;49m\u001b[43mGlobalMaxPooling1D\u001b[49m\u001b[43m(\u001b[49m\u001b[43m)\u001b[49m\u001b[43m,\u001b[49m\u001b[43m  \u001b[49m\u001b[38;5;66;43;03m# Reduce dimensionality\u001b[39;49;00m\n\u001b[1;32m      6\u001b[0m \u001b[43m    \u001b[49m\u001b[43mkeras\u001b[49m\u001b[38;5;241;43m.\u001b[39;49m\u001b[43mlayers\u001b[49m\u001b[38;5;241;43m.\u001b[39;49m\u001b[43mDense\u001b[49m\u001b[43m(\u001b[49m\u001b[38;5;241;43m128\u001b[39;49m\u001b[43m,\u001b[49m\u001b[43m \u001b[49m\u001b[43mactivation\u001b[49m\u001b[38;5;241;43m=\u001b[39;49m\u001b[38;5;124;43m'\u001b[39;49m\u001b[38;5;124;43mrelu\u001b[39;49m\u001b[38;5;124;43m'\u001b[39;49m\u001b[43m)\u001b[49m\u001b[43m,\u001b[49m\n\u001b[1;32m      7\u001b[0m \u001b[43m    \u001b[49m\u001b[43mkeras\u001b[49m\u001b[38;5;241;43m.\u001b[39;49m\u001b[43mlayers\u001b[49m\u001b[38;5;241;43m.\u001b[39;49m\u001b[43mDense\u001b[49m\u001b[43m(\u001b[49m\u001b[38;5;28;43mlen\u001b[39;49m\u001b[43m(\u001b[49m\u001b[43mlabel_encoder\u001b[49m\u001b[38;5;241;43m.\u001b[39;49m\u001b[43mclasses_\u001b[49m\u001b[43m)\u001b[49m\u001b[43m,\u001b[49m\u001b[43m \u001b[49m\n\u001b[1;32m      8\u001b[0m \u001b[43m    \u001b[49m\u001b[43mkeras\u001b[49m\u001b[38;5;241;43m.\u001b[39;49m\u001b[43mlayers\u001b[49m\u001b[38;5;241;43m.\u001b[39;49m\u001b[43mAttention\u001b[49m\u001b[43m(\u001b[49m\u001b[43muse_scale\u001b[49m\u001b[38;5;241;43m=\u001b[39;49m\u001b[38;5;28;43;01mTrue\u001b[39;49;00m\u001b[43m)\u001b[49m\u001b[43m)\u001b[49m\n\u001b[1;32m      9\u001b[0m \u001b[43m    \u001b[49m\n\u001b[1;32m     10\u001b[0m \u001b[43m]\u001b[49m\u001b[43m)\u001b[49m\n\u001b[1;32m     12\u001b[0m model\u001b[38;5;241m.\u001b[39msummary()\n",
      "File \u001b[0;32m~/opt/anaconda3/envs/Tensorflow_env/lib/python3.9/site-packages/tensorflow/python/trackable/base.py:205\u001b[0m, in \u001b[0;36mno_automatic_dependency_tracking.<locals>._method_wrapper\u001b[0;34m(self, *args, **kwargs)\u001b[0m\n\u001b[1;32m    203\u001b[0m \u001b[38;5;28mself\u001b[39m\u001b[38;5;241m.\u001b[39m_self_setattr_tracking \u001b[38;5;241m=\u001b[39m \u001b[38;5;28;01mFalse\u001b[39;00m  \u001b[38;5;66;03m# pylint: disable=protected-access\u001b[39;00m\n\u001b[1;32m    204\u001b[0m \u001b[38;5;28;01mtry\u001b[39;00m:\n\u001b[0;32m--> 205\u001b[0m   result \u001b[38;5;241m=\u001b[39m \u001b[43mmethod\u001b[49m\u001b[43m(\u001b[49m\u001b[38;5;28;43mself\u001b[39;49m\u001b[43m,\u001b[49m\u001b[43m \u001b[49m\u001b[38;5;241;43m*\u001b[39;49m\u001b[43margs\u001b[49m\u001b[43m,\u001b[49m\u001b[43m \u001b[49m\u001b[38;5;241;43m*\u001b[39;49m\u001b[38;5;241;43m*\u001b[39;49m\u001b[43mkwargs\u001b[49m\u001b[43m)\u001b[49m\n\u001b[1;32m    206\u001b[0m \u001b[38;5;28;01mfinally\u001b[39;00m:\n\u001b[1;32m    207\u001b[0m   \u001b[38;5;28mself\u001b[39m\u001b[38;5;241m.\u001b[39m_self_setattr_tracking \u001b[38;5;241m=\u001b[39m previous_value  \u001b[38;5;66;03m# pylint: disable=protected-access\u001b[39;00m\n",
      "File \u001b[0;32m~/opt/anaconda3/envs/Tensorflow_env/lib/python3.9/site-packages/keras/utils/traceback_utils.py:70\u001b[0m, in \u001b[0;36mfilter_traceback.<locals>.error_handler\u001b[0;34m(*args, **kwargs)\u001b[0m\n\u001b[1;32m     67\u001b[0m     filtered_tb \u001b[38;5;241m=\u001b[39m _process_traceback_frames(e\u001b[38;5;241m.\u001b[39m__traceback__)\n\u001b[1;32m     68\u001b[0m     \u001b[38;5;66;03m# To get the full stack trace, call:\u001b[39;00m\n\u001b[1;32m     69\u001b[0m     \u001b[38;5;66;03m# `tf.debugging.disable_traceback_filtering()`\u001b[39;00m\n\u001b[0;32m---> 70\u001b[0m     \u001b[38;5;28;01mraise\u001b[39;00m e\u001b[38;5;241m.\u001b[39mwith_traceback(filtered_tb) \u001b[38;5;28;01mfrom\u001b[39;00m \u001b[38;5;28;01mNone\u001b[39;00m\n\u001b[1;32m     71\u001b[0m \u001b[38;5;28;01mfinally\u001b[39;00m:\n\u001b[1;32m     72\u001b[0m     \u001b[38;5;28;01mdel\u001b[39;00m filtered_tb\n",
      "File \u001b[0;32m~/opt/anaconda3/envs/Tensorflow_env/lib/python3.9/site-packages/keras/layers/attention/base_dense_attention.py:211\u001b[0m, in \u001b[0;36mBaseDenseAttention._validate_call_args\u001b[0;34m(self, inputs, mask)\u001b[0m\n\u001b[1;32m    209\u001b[0m class_name \u001b[38;5;241m=\u001b[39m \u001b[38;5;28mself\u001b[39m\u001b[38;5;241m.\u001b[39m\u001b[38;5;18m__class__\u001b[39m\u001b[38;5;241m.\u001b[39m\u001b[38;5;18m__name__\u001b[39m\n\u001b[1;32m    210\u001b[0m \u001b[38;5;28;01mif\u001b[39;00m \u001b[38;5;129;01mnot\u001b[39;00m \u001b[38;5;28misinstance\u001b[39m(inputs, \u001b[38;5;28mlist\u001b[39m):\n\u001b[0;32m--> 211\u001b[0m     \u001b[38;5;28;01mraise\u001b[39;00m \u001b[38;5;167;01mValueError\u001b[39;00m(\n\u001b[1;32m    212\u001b[0m         \u001b[38;5;124mf\u001b[39m\u001b[38;5;124m\"\u001b[39m\u001b[38;5;132;01m{\u001b[39;00mclass_name\u001b[38;5;132;01m}\u001b[39;00m\u001b[38;5;124m layer must be called on a list of inputs, \u001b[39m\u001b[38;5;124m\"\u001b[39m\n\u001b[1;32m    213\u001b[0m         \u001b[38;5;124m\"\u001b[39m\u001b[38;5;124mnamely [query, value] or [query, value, key]. \u001b[39m\u001b[38;5;124m\"\u001b[39m\n\u001b[1;32m    214\u001b[0m         \u001b[38;5;124mf\u001b[39m\u001b[38;5;124m\"\u001b[39m\u001b[38;5;124mReceived: \u001b[39m\u001b[38;5;132;01m{\u001b[39;00minputs\u001b[38;5;132;01m}\u001b[39;00m\u001b[38;5;124m.\u001b[39m\u001b[38;5;124m\"\u001b[39m\n\u001b[1;32m    215\u001b[0m     )\n\u001b[1;32m    216\u001b[0m \u001b[38;5;28;01mif\u001b[39;00m \u001b[38;5;28mlen\u001b[39m(inputs) \u001b[38;5;241m<\u001b[39m \u001b[38;5;241m2\u001b[39m \u001b[38;5;129;01mor\u001b[39;00m \u001b[38;5;28mlen\u001b[39m(inputs) \u001b[38;5;241m>\u001b[39m \u001b[38;5;241m3\u001b[39m:\n\u001b[1;32m    217\u001b[0m     \u001b[38;5;28;01mraise\u001b[39;00m \u001b[38;5;167;01mValueError\u001b[39;00m(\n\u001b[1;32m    218\u001b[0m         \u001b[38;5;124mf\u001b[39m\u001b[38;5;124m\"\u001b[39m\u001b[38;5;132;01m{\u001b[39;00mclass_name\u001b[38;5;132;01m}\u001b[39;00m\u001b[38;5;124m layer accepts inputs list of length 2 or 3, \u001b[39m\u001b[38;5;124m\"\u001b[39m\n\u001b[1;32m    219\u001b[0m         \u001b[38;5;124m\"\u001b[39m\u001b[38;5;124mnamely [query, value] or [query, value, key]. \u001b[39m\u001b[38;5;124m\"\u001b[39m\n\u001b[1;32m    220\u001b[0m         \u001b[38;5;124mf\u001b[39m\u001b[38;5;124m\"\u001b[39m\u001b[38;5;124mReceived length: \u001b[39m\u001b[38;5;132;01m{\u001b[39;00m\u001b[38;5;28mlen\u001b[39m(inputs)\u001b[38;5;132;01m}\u001b[39;00m\u001b[38;5;124m.\u001b[39m\u001b[38;5;124m\"\u001b[39m\n\u001b[1;32m    221\u001b[0m     )\n",
      "\u001b[0;31mValueError\u001b[0m: Exception encountered when calling layer \"attention\" \"                 f\"(type Attention).\n\nAttention layer must be called on a list of inputs, namely [query, value] or [query, value, key]. Received: Tensor(\"dense_13/BiasAdd:0\", shape=(None, 29), dtype=float32).\n\nCall arguments received by layer \"attention\" \"                 f\"(type Attention):\n  • inputs=tf.Tensor(shape=(None, 29), dtype=float32)\n  • mask=None\n  • training=None\n  • return_attention_scores=False\n  • use_causal_mask=False"
     ]
    }
   ],
   "source": [
    "# Build the DNN model\n",
    "model = keras.Sequential([\n",
    "    tokenizer,\n",
    "    keras.layers.Embedding(input_dim=len(tokenizer.get_vocabulary()), output_dim=128, mask_zero=True),\n",
    "    keras.layers.GlobalMaxPooling1D(),  # Reduce dimensionality\n",
    "    keras.layers.Dense(128, activation='relu'),\n",
    "    keras.layers.Dense(len(label_encoder.classes_), \n",
    "    keras.layers.Attention(use_scale=True))\n",
    "])\n",
    "\n",
    "model.summary()"
   ]
  },
  {
   "cell_type": "code",
   "execution_count": 61,
   "id": "2a82aefb",
   "metadata": {},
   "outputs": [
    {
     "data": {
      "text/plain": [
       "[('gay', 0.739388108253479),\n",
       " ('â£1.50p', 0.7275198698043823),\n",
       " ('w8in', 0.6855700612068176),\n",
       " ('secs', 0.6839038133621216),\n",
       " ('02073162414', 0.6711332201957703),\n",
       " ('relocate', 0.6706814169883728),\n",
       " ('4utt', 0.6668498516082764),\n",
       " ('dirty', 0.6665506362915039),\n",
       " ('cleaning', 0.6620139479637146),\n",
       " ('bedreal', 0.6552912592887878)]"
      ]
     },
     "execution_count": 61,
     "metadata": {},
     "output_type": "execute_result"
    }
   ],
   "source": [
    "d2v_model.wv.most_similar(positive=['hot'], topn=10)"
   ]
  },
  {
   "cell_type": "code",
   "execution_count": 62,
   "id": "2c3ec0e6",
   "metadata": {},
   "outputs": [
    {
     "data": {
      "text/plain": [
       "[('whats', 0.692950427532196),\n",
       " ('ecept', 0.6461871862411499),\n",
       " ('deduct', 0.6231467723846436),\n",
       " ('sighs', 0.6195566654205322),\n",
       " ('sender', 0.6124569177627563),\n",
       " ('put', 0.6078450083732605),\n",
       " ('tv/', 0.5963074564933777),\n",
       " ('billing', 0.5915576815605164),\n",
       " ('net', 0.5867791175842285),\n",
       " ('unconsciously', 0.5847325921058655)]"
      ]
     },
     "execution_count": 62,
     "metadata": {},
     "output_type": "execute_result"
    }
   ],
   "source": [
    "d2v_model.wv.most_similar(positive=['enjoy'], topn=10)"
   ]
  },
  {
   "cell_type": "code",
   "execution_count": 63,
   "id": "a01a1ba7",
   "metadata": {},
   "outputs": [
    {
     "data": {
      "text/plain": [
       "[('0796.', 0.7959805727005005),\n",
       " ('0789.', 0.7671586871147156),\n",
       " ('relieved', 0.7529219388961792),\n",
       " ('ru', 0.734414279460907),\n",
       " ('reply.be', 0.7131716012954712),\n",
       " ('heâ\\x92s', 0.6947227716445923),\n",
       " ('videophones', 0.6941127777099609),\n",
       " ('resolution', 0.6904767751693726),\n",
       " ('student', 0.6793217062950134),\n",
       " ('interview', 0.6788327693939209)]"
      ]
     },
     "execution_count": 63,
     "metadata": {},
     "output_type": "execute_result"
    }
   ],
   "source": [
    "d2v_model.wv.most_similar(positive=['congrats'], topn=10)"
   ]
  },
  {
   "cell_type": "code",
   "execution_count": 65,
   "id": "ef242587",
   "metadata": {},
   "outputs": [
    {
     "name": "stdout",
     "output_type": "stream",
     "text": [
      "Model: \"sequential_1\"\n",
      "_________________________________________________________________\n",
      " Layer (type)                Output Shape              Param #   \n",
      "=================================================================\n",
      " embedding (Embedding)       (None, 50, 20)            187240    \n",
      "                                                                 \n",
      " lstm (LSTM)                 (None, 50)                14200     \n",
      "                                                                 \n",
      " dense (Dense)               (None, 2)                 102       \n",
      "                                                                 \n",
      "=================================================================\n",
      "Total params: 201,542\n",
      "Trainable params: 201,542\n",
      "Non-trainable params: 0\n",
      "_________________________________________________________________\n"
     ]
    }
   ],
   "source": [
    "#Create the LSTM Model\n",
    "\n",
    "from keras.models import Sequential\n",
    "from keras.layers import LSTM, Dense, Embedding\n",
    "\n",
    "\n",
    "# init layer\n",
    "model = Sequential()\n",
    "\n",
    "# emmbed word vectors\n",
    "model.add(Embedding(len(d2v_model.wv)+1,20,input_length=X.shape[1],weights=[embedding_matrix],trainable=True))\n",
    "\n",
    "# learn the correlations\n",
    "def split_input(sequence):\n",
    "     return sequence[:-1], tf.reshape(sequence[1:], (-1,1))\n",
    "model.add(LSTM(50,return_sequences=False))\n",
    "model.add(Dense(2,activation=\"softmax\"))(original_branch) \n",
    "\n",
    "# output model skeleton\n",
    "model.summary()\n",
    "model.compile(optimizer=\"adam\",loss=\"binary_crossentropy\",metrics=['acc'])\n",
    "\n",
    "\n",
    "################ SAVING THE LAST OUTPUT LAYER ##################\n",
    "\n",
    "from tensorflow.keras.models import Sequential, Model\n",
    "from tensorflow.keras.layers import Dense\n",
    "\n",
    "\n",
    "################## ATTENTION WEIGHTS ########################\n",
    "\n",
    "attention_weights = AttentionLayer()(original_branch)\n",
    "\n",
    "\n",
    "# Merge the attention weights with the new input features\n",
    "merged_input = Concatenate()([attention_weights, input_new])\n"
   ]
  },
  {
   "cell_type": "code",
   "execution_count": 70,
   "id": "472241c7",
   "metadata": {},
   "outputs": [
    {
     "name": "stdout",
     "output_type": "stream",
     "text": [
      "You must install pydot (`pip install pydot`) and install graphviz (see instructions at https://graphviz.gitlab.io/download/) for plot_model to work.\n"
     ]
    }
   ],
   "source": [
    "from keras.utils import plot_model\n",
    "plot_model(model, to_file='model.png')"
   ]
  },
  {
   "cell_type": "code",
   "execution_count": 69,
   "id": "2c378f4d",
   "metadata": {},
   "outputs": [
    {
     "name": "stdout",
     "output_type": "stream",
     "text": [
      "Requirement already satisfied: graphviz in /Users/zaarr/opt/anaconda3/envs/Tensorflow_env/lib/python3.9/site-packages (0.20.1)\n",
      "Note: you may need to restart the kernel to use updated packages.\n"
     ]
    }
   ],
   "source": [
    "pip install graphviz"
   ]
  },
  {
   "cell_type": "code",
   "execution_count": 71,
   "id": "130d2268",
   "metadata": {},
   "outputs": [
    {
     "name": "stdout",
     "output_type": "stream",
     "text": [
      "(4736, 50) (4736, 2)\n",
      "(836, 50) (836, 2)\n"
     ]
    }
   ],
   "source": [
    "Y = pd.get_dummies(df['Category']).values\n",
    "X_train, X_test, Y_train, Y_test = train_test_split(X,Y, test_size = 0.15, random_state = 42)\n",
    "print(X_train.shape,Y_train.shape)\n",
    "print(X_test.shape,Y_test.shape)"
   ]
  },
  {
   "cell_type": "code",
   "execution_count": 72,
   "id": "e711e4bb",
   "metadata": {},
   "outputs": [
    {
     "name": "stdout",
     "output_type": "stream",
     "text": [
      "Epoch 1/50\n",
      "148/148 - 3s - loss: 0.2892 - acc: 0.9109 - 3s/epoch - 17ms/step\n",
      "Epoch 2/50\n",
      "148/148 - 2s - loss: 0.0576 - acc: 0.9867 - 2s/epoch - 10ms/step\n",
      "Epoch 3/50\n",
      "148/148 - 2s - loss: 0.0239 - acc: 0.9949 - 2s/epoch - 10ms/step\n",
      "Epoch 4/50\n",
      "148/148 - 2s - loss: 0.0149 - acc: 0.9973 - 2s/epoch - 11ms/step\n",
      "Epoch 5/50\n",
      "148/148 - 2s - loss: 0.0073 - acc: 0.9981 - 2s/epoch - 11ms/step\n",
      "Epoch 6/50\n",
      "148/148 - 2s - loss: 0.0054 - acc: 0.9989 - 2s/epoch - 10ms/step\n",
      "Epoch 7/50\n",
      "148/148 - 2s - loss: 0.0037 - acc: 0.9989 - 2s/epoch - 10ms/step\n",
      "Epoch 8/50\n",
      "148/148 - 2s - loss: 0.0019 - acc: 0.9994 - 2s/epoch - 10ms/step\n",
      "Epoch 9/50\n",
      "148/148 - 2s - loss: 0.0012 - acc: 0.9996 - 2s/epoch - 10ms/step\n",
      "Epoch 10/50\n",
      "148/148 - 2s - loss: 8.5834e-04 - acc: 0.9996 - 2s/epoch - 10ms/step\n",
      "Epoch 11/50\n",
      "148/148 - 2s - loss: 6.2585e-04 - acc: 0.9998 - 2s/epoch - 10ms/step\n",
      "Epoch 12/50\n",
      "148/148 - 2s - loss: 4.7600e-04 - acc: 1.0000 - 2s/epoch - 10ms/step\n",
      "Epoch 13/50\n",
      "148/148 - 2s - loss: 3.9832e-04 - acc: 1.0000 - 2s/epoch - 10ms/step\n",
      "Epoch 14/50\n",
      "148/148 - 2s - loss: 2.8924e-04 - acc: 1.0000 - 2s/epoch - 10ms/step\n",
      "Epoch 15/50\n",
      "148/148 - 2s - loss: 2.2948e-04 - acc: 1.0000 - 2s/epoch - 10ms/step\n",
      "Epoch 16/50\n",
      "148/148 - 2s - loss: 1.9233e-04 - acc: 1.0000 - 2s/epoch - 10ms/step\n",
      "Epoch 17/50\n",
      "148/148 - 2s - loss: 1.6945e-04 - acc: 1.0000 - 2s/epoch - 11ms/step\n",
      "Epoch 18/50\n",
      "148/148 - 2s - loss: 1.2365e-04 - acc: 1.0000 - 2s/epoch - 10ms/step\n",
      "Epoch 19/50\n",
      "148/148 - 2s - loss: 9.8898e-05 - acc: 1.0000 - 2s/epoch - 10ms/step\n",
      "Epoch 20/50\n",
      "148/148 - 2s - loss: 8.6423e-05 - acc: 1.0000 - 2s/epoch - 10ms/step\n",
      "Epoch 21/50\n",
      "148/148 - 2s - loss: 7.3466e-05 - acc: 1.0000 - 2s/epoch - 10ms/step\n",
      "Epoch 22/50\n",
      "148/148 - 2s - loss: 0.0055 - acc: 0.9981 - 2s/epoch - 10ms/step\n",
      "Epoch 23/50\n",
      "148/148 - 2s - loss: 0.0088 - acc: 0.9975 - 2s/epoch - 10ms/step\n",
      "Epoch 24/50\n",
      "148/148 - 2s - loss: 7.7564e-04 - acc: 0.9998 - 2s/epoch - 10ms/step\n",
      "Epoch 25/50\n",
      "148/148 - 2s - loss: 3.4637e-04 - acc: 1.0000 - 2s/epoch - 10ms/step\n",
      "Epoch 26/50\n",
      "148/148 - 2s - loss: 3.0686e-04 - acc: 1.0000 - 2s/epoch - 10ms/step\n",
      "Epoch 27/50\n",
      "148/148 - 2s - loss: 2.1589e-04 - acc: 1.0000 - 2s/epoch - 10ms/step\n",
      "Epoch 28/50\n",
      "148/148 - 2s - loss: 1.5412e-04 - acc: 1.0000 - 2s/epoch - 10ms/step\n",
      "Epoch 29/50\n",
      "148/148 - 2s - loss: 1.3309e-04 - acc: 1.0000 - 2s/epoch - 10ms/step\n",
      "Epoch 30/50\n",
      "148/148 - 2s - loss: 1.0663e-04 - acc: 1.0000 - 2s/epoch - 10ms/step\n",
      "Epoch 31/50\n",
      "148/148 - 2s - loss: 9.2163e-05 - acc: 1.0000 - 2s/epoch - 10ms/step\n",
      "Epoch 32/50\n",
      "148/148 - 2s - loss: 7.9670e-05 - acc: 1.0000 - 2s/epoch - 10ms/step\n",
      "Epoch 33/50\n",
      "148/148 - 2s - loss: 6.8698e-05 - acc: 1.0000 - 2s/epoch - 10ms/step\n",
      "Epoch 34/50\n",
      "148/148 - 2s - loss: 7.0903e-05 - acc: 1.0000 - 2s/epoch - 11ms/step\n",
      "Epoch 35/50\n",
      "148/148 - 2s - loss: 5.4308e-05 - acc: 1.0000 - 2s/epoch - 10ms/step\n",
      "Epoch 36/50\n",
      "148/148 - 2s - loss: 4.7902e-05 - acc: 1.0000 - 2s/epoch - 10ms/step\n",
      "Epoch 37/50\n",
      "148/148 - 2s - loss: 4.2139e-05 - acc: 1.0000 - 2s/epoch - 10ms/step\n",
      "Epoch 38/50\n",
      "148/148 - 2s - loss: 3.7781e-05 - acc: 1.0000 - 2s/epoch - 10ms/step\n",
      "Epoch 39/50\n",
      "148/148 - 2s - loss: 3.3199e-05 - acc: 1.0000 - 2s/epoch - 10ms/step\n",
      "Epoch 40/50\n",
      "148/148 - 2s - loss: 3.2168e-05 - acc: 1.0000 - 2s/epoch - 10ms/step\n",
      "Epoch 41/50\n",
      "148/148 - 2s - loss: 2.6349e-05 - acc: 1.0000 - 2s/epoch - 10ms/step\n",
      "Epoch 42/50\n",
      "148/148 - 2s - loss: 2.8571e-05 - acc: 1.0000 - 2s/epoch - 10ms/step\n",
      "Epoch 43/50\n",
      "148/148 - 2s - loss: 2.4973e-05 - acc: 1.0000 - 2s/epoch - 10ms/step\n",
      "Epoch 44/50\n",
      "148/148 - 2s - loss: 2.0078e-05 - acc: 1.0000 - 2s/epoch - 10ms/step\n",
      "Epoch 45/50\n",
      "148/148 - 2s - loss: 1.8183e-05 - acc: 1.0000 - 2s/epoch - 10ms/step\n",
      "Epoch 46/50\n",
      "148/148 - 2s - loss: 1.6235e-05 - acc: 1.0000 - 2s/epoch - 10ms/step\n",
      "Epoch 47/50\n",
      "148/148 - 2s - loss: 1.4045e-05 - acc: 1.0000 - 2s/epoch - 10ms/step\n",
      "Epoch 48/50\n",
      "148/148 - 2s - loss: 1.4006e-05 - acc: 1.0000 - 2s/epoch - 10ms/step\n",
      "Epoch 49/50\n",
      "148/148 - 2s - loss: 1.2364e-05 - acc: 1.0000 - 2s/epoch - 10ms/step\n",
      "Epoch 50/50\n",
      "148/148 - 2s - loss: 1.0755e-05 - acc: 1.0000 - 2s/epoch - 10ms/step\n"
     ]
    }
   ],
   "source": [
    "batch_size = 32\n",
    "history=model.fit(X_train, Y_train, epochs =50, batch_size=batch_size, verbose = 2)"
   ]
  },
  {
   "cell_type": "code",
   "execution_count": 73,
   "id": "0d4dc8ee",
   "metadata": {},
   "outputs": [
    {
     "data": {
      "image/png": "[encoded data removed]",
      "text/plain": [
       "<Figure size 640x480 with 1 Axes>"
      ]
     },
     "metadata": {},
     "output_type": "display_data"
    },
    {
     "data": {
      "image/png": "[encoded data removed]",
      "text/plain": [
       "<Figure size 640x480 with 1 Axes>"
      ]
     },
     "metadata": {},
     "output_type": "display_data"
    },
    {
     "data": {
      "text/plain": [
       "<Figure size 640x480 with 0 Axes>"
      ]
     },
     "metadata": {},
     "output_type": "display_data"
    }
   ],
   "source": [
    "plt.plot(history.history['acc'])\n",
    "plt.title('model accuracy')\n",
    "plt.ylabel('acc')\n",
    "plt.xlabel('epochs')\n",
    "plt.legend(['train', 'test'], loc='upper left')\n",
    "plt.show()\n",
    "plt.savefig('model_accuracy.png')\n",
    "\n",
    "# summarize history for loss\n",
    "plt.plot(history.history['loss'])\n",
    "#plt.plot(history.history['val_loss'])\n",
    "plt.title('model loss')\n",
    "plt.ylabel('loss')\n",
    "plt.xlabel('epochs')\n",
    "plt.legend(['train', 'test'], loc='upper left')\n",
    "plt.show()\n",
    "plt.savefig('model_loss.png')"
   ]
  },
  {
   "cell_type": "code",
   "execution_count": 74,
   "id": "5ea2875e",
   "metadata": {},
   "outputs": [
    {
     "name": "stdout",
     "output_type": "stream",
     "text": [
      "148/148 - 1s - loss: 1.0920e-05 - acc: 1.0000 - 829ms/epoch - 6ms/step\n",
      "27/27 - 0s - loss: 0.0912 - acc: 0.9904 - 351ms/epoch - 13ms/step\n",
      "Train: 1.000, Test: 0.9904\n"
     ]
    }
   ],
   "source": [
    "# evaluate the model\n",
    "_, train_acc = model.evaluate(X_train, Y_train, verbose=2)\n",
    "_, test_acc = model.evaluate(X_test, Y_test, verbose=2)\n",
    "print('Train: %.3f, Test: %.4f' % (train_acc, test_acc))"
   ]
  },
  {
   "cell_type": "code",
   "execution_count": 82,
   "id": "83d85f8c",
   "metadata": {},
   "outputs": [
    {
     "name": "stdout",
     "output_type": "stream",
     "text": [
      "[[1.0000000e+00 1.4239743e-13]\n",
      " [1.0000000e+00 6.0482908e-12]\n",
      " [1.0000000e+00 1.8714299e-12]\n",
      " ...\n",
      " [1.0000000e+00 5.1295719e-13]\n",
      " [1.0000000e+00 1.8166558e-13]\n",
      " [1.0000000e+00 5.2738765e-11]]\n",
      "[0 0 0 0 0 0 0 0 0 0 0 0 0 0 1 0 0 0 0 0 0 0 0 0 1 0 0 0 0 0 0 0 0 0 0 0 0\n",
      " 0 0 0 0 0 0 0 0 0 0 1 0 0 0 1 0 0 0 0 0 0 0 0 1 0 1 0 0 0 0 0 0 0 1 0 1 1\n",
      " 1 1 0 0 0 0 0 0 0 0 1 0 0 0 0 0 0 0 0 0 0 0 0 0 0 0 0 0 0 0 0 0 0 0 0 0 0\n",
      " 0 0 0 0 1 0 0 0 1 0 0 0 0 0 0 0 0 0 1 0 0 0 0 0 0 0 0 0 0 0 0 0 0 0 0 1 0\n",
      " 0 0 0 0 0 0 0 0 0 0 0 0 0 0 0 0 0 0 1 1 0 0 0 0 0 0 0 0 0 0 0 0 0 0 0 0 0\n",
      " 0 0 0 0 0 0 0 0 0 0 0 0 0 0 0 0 0 0 0 0 0 0 0 1 0 0 1 0 0 0 0 0 0 0 0 0 1\n",
      " 0 0 0 0 0 0 0 0 0 0 0 0 0 0 1 0 1 0 1 0 0 1 0 0 0 0 0 0 0 1 0 0 0 0 0 0 0\n",
      " 1 1 0 0 0 0 0 0 0 0 0 0 0 0 0 0 0 0 0 0 0 1 0 0 0 0 0 0 1 0 0 0 1 1 0 0 0\n",
      " 0 1 0 1 0 0 0 0 0 0 0 1 0 0 0 0 0 0 1 0 0 0 0 0 0 0 0 0 1 0 1 0 0 0 0 0 0\n",
      " 0 0 0 0 1 1 0 0 0 0 0 1 0 0 0 0 0 0 0 0 0 0 0 0 1 0 0 0 0 0 0 0 0 0 0 0 0\n",
      " 0 0 0 0 0 0 0 0 0 0 0 0 0 0 0 0 0 0 0 0 0 0 0 1 0 1 0 0 0 0 0 0 0 0 0 1 0\n",
      " 0 1 0 0 0 0 0 0 0 0 0 0 0 0 0 0 0 0 0 1 0 0 1 0 0 0 0 0 0 1 0 0 0 1 0 0 0\n",
      " 1 0 0 0 0 0 0 1 0 0 1 0 0 0 0 0 0 1 0 0 0 0 0 0 0 0 1 0 0 0 0 0 0 0 0 0 0\n",
      " 1 0 0 0 0 0 0 0 1 0 0 0 0 1 0 0 1 0 0 0 0 0 0 0 0 0 0 0 0 0 0 0 0 0 0 0 0\n",
      " 1 1 0 0 0 0 0 0 0 0 0 0 0 0 0 0 0 0 0 0 0 1 0 1 0 1 1 1 0 0 0 0 1 1 1 0 0\n",
      " 0 0 0 0 0 0 1 0 1 0 0 0 0 0 0 0 0 0 0 0 0 1 0 0 0 0 0 0 0 0 1 0 0 0 0 0 0\n",
      " 0 0 0 0 0 0 0 0 0 0 0 0 0 0 0 0 0 0 1 1 0 0 0 0 0 1 0 0 0 0 0 0 0 0 0 0 0\n",
      " 0 0 0 0 0 0 0 0 0 0 0 0 0 0 1 0 0 0 1 0 0 0 0 1 0 0 0 0 0 0 0 0 0 0 0 0 0\n",
      " 0 0 0 0 0 0 0 0 0 0 0 0 1 0 0 1 0 0 0 0 0 0 0 0 0 0 0 0 0 0 0 0 0 0 0 0 0\n",
      " 0 0 0 0 0 0 0 0 0 0 0 0 0 0 0 0 0 0 0 0 0 1 0 0 0 0 0 1 1 0 0 0 0 0 0 0 0\n",
      " 0 1 0 0 0 0 0 0 0 0 0 0 0 1 0 1 0 0 0 0 0 0 1 0 0 0 0 0 0 0 0 0 0 1 0 0 0\n",
      " 0 0 0 1 0 1 0 1 0 0 0 0 0 0 0 0 0 1 1 0 0 0 0 0 1 1 0 0 0 0 1 0 0 0 0 0 0\n",
      " 0 1 1 1 0 1 0 0 0 0 0 0 0 0 0 0 1 1 0 0 0 0]\n"
     ]
    }
   ],
   "source": [
    "\n",
    "\n",
    "# predict probabilities for test set\n",
    "yhat_probs = model.predict(X_test, verbose=0)\n",
    "print(yhat_probs)\n",
    "# predict crisp classes for test set\n",
    "#yhat_classes = model.predict_classes(X_test, verbose=0)\n",
    "yhat_classes =np.argmax(yhat_probs, axis=1)\n",
    "print(yhat_classes)\n",
    "# reduce to 1d array\n",
    "yhat_probs = yhat_probs[:, 0]\n",
    "#yhat_classes = yhat_classes[:, 1\n",
    "\n",
    "\n",
    "\n",
    "import numpy as np"
   ]
  },
  {
   "cell_type": "code",
   "execution_count": 78,
   "id": "381437c5",
   "metadata": {},
   "outputs": [
    {
     "name": "stdout",
     "output_type": "stream",
     "text": [
      "27/27 [==============================] - 0s 4ms/step\n",
      "[0 0 0 0 0 0 0 0 0 0 0 0 0 0 1 0 0 0 0 0 0 0 0 0 1 0 0 0 0 0 0 0 0 0 0 0 0\n",
      " 0 0 0 0 0 0 0 0 0 0 1 0 0 0 1 0 0 0 0 0 0 0 0 1 0 1 0 0 0 0 0 0 0 1 0 1 1\n",
      " 1 1 0 0 0 0 0 0 0 0 1 0 0 0 0 0 0 0 0 0 0 0 0 0 0 0 0 0 0 0 0 0 0 0 0 0 0\n",
      " 0 0 0 0 1 0 0 0 1 0 0 0 0 0 0 0 0 0 1 0 0 0 0 0 0 0 0 0 0 0 0 0 0 0 0 1 0\n",
      " 0 0 0 0 0 0 0 0 0 0 0 0 0 0 0 0 0 0 1 1 0 0 0 0 0 0 0 0 0 0 0 0 0 0 0 0 0\n",
      " 0 0 0 0 0 0 0 0 0 0 0 0 0 0 0 0 0 0 0 0 0 0 0 1 0 0 1 0 0 0 0 0 0 0 0 0 1\n",
      " 0 0 0 0 0 0 0 0 0 0 0 0 0 0 1 0 1 0 1 0 0 1 0 0 0 0 0 0 0 1 0 0 0 0 0 0 0\n",
      " 1 1 0 0 0 0 0 0 0 0 0 0 0 0 0 0 0 0 0 0 0 1 0 0 0 0 0 0 1 0 0 0 1 1 0 0 0\n",
      " 0 1 0 1 0 0 0 0 0 0 0 1 0 0 0 0 0 0 1 0 0 0 0 0 0 0 0 0 1 0 1 0 0 0 0 0 0\n",
      " 0 0 0 0 1 1 0 0 0 0 0 1 0 0 0 0 0 0 0 0 0 0 0 0 1 0 0 0 0 0 0 0 0 0 0 0 0\n",
      " 0 0 0 0 0 0 0 0 0 0 0 0 0 0 0 0 0 0 0 0 0 0 0 1 0 1 0 0 0 0 0 0 0 0 0 1 0\n",
      " 0 1 0 0 0 0 0 0 0 0 0 0 0 0 0 0 0 0 0 1 0 0 1 0 0 0 0 0 0 1 0 0 0 1 0 0 0\n",
      " 1 0 0 0 0 0 0 1 0 0 1 0 0 0 0 0 0 1 0 0 0 0 0 0 0 0 1 0 0 0 0 0 0 0 0 0 0\n",
      " 1 0 0 0 0 0 0 0 1 0 0 0 0 1 0 0 1 0 0 0 0 0 0 0 0 0 0 0 0 0 0 0 0 0 0 0 0\n",
      " 1 1 0 0 0 0 0 0 0 0 0 0 0 0 0 0 0 0 0 0 0 1 0 1 0 1 1 1 0 0 0 0 1 1 1 0 0\n",
      " 0 0 0 0 0 0 1 0 1 0 0 0 0 0 0 0 0 0 0 0 0 1 0 0 0 0 0 0 0 0 1 0 0 0 0 0 0\n",
      " 0 0 0 0 0 0 0 0 0 0 0 0 0 0 0 0 0 0 1 1 0 0 0 0 0 1 0 0 0 0 0 0 0 0 0 0 0\n",
      " 0 0 0 0 0 0 0 0 0 0 0 0 0 0 1 0 0 0 1 0 0 0 0 1 0 0 0 0 0 0 0 0 0 0 0 0 0\n",
      " 0 0 0 0 0 0 0 0 0 0 0 0 1 0 0 1 0 0 0 0 0 0 0 0 0 0 0 0 0 0 0 0 0 0 0 0 0\n",
      " 0 0 0 0 0 0 0 0 0 0 0 0 0 0 0 0 0 0 0 0 0 1 0 0 0 0 0 1 1 0 0 0 0 0 0 0 0\n",
      " 0 1 0 0 0 0 0 0 0 0 0 0 0 1 0 1 0 0 0 0 0 0 1 0 0 0 0 0 0 0 0 0 0 1 0 0 0\n",
      " 0 0 0 1 0 1 0 1 0 0 0 0 0 0 0 0 0 1 1 0 0 0 0 0 1 1 0 0 0 0 1 0 0 0 0 0 0\n",
      " 0 1 1 1 0 1 0 0 0 0 0 0 0 0 0 0 1 1 0 0 0 0]\n"
     ]
    }
   ],
   "source": [
    "# Assuming model is your Sequential model\n",
    "predictions = model.predict(X_test)  # Replace input_data with your data\n",
    "predicted_classes = np.argmax(predictions, axis=-1)\n",
    "print(predicted_classes)"
   ]
  },
  {
   "cell_type": "code",
   "execution_count": 83,
   "id": "ee658f27",
   "metadata": {},
   "outputs": [
    {
     "data": {
      "text/plain": [
       "array([0, 0, 0, 0, 0, 0, 0, 0, 0, 0, 0, 0, 0, 0, 1, 0, 0, 0, 0, 0, 0, 0,\n",
       "       0, 0, 1, 0, 0, 0, 0, 0, 0, 0, 0, 0, 0, 0, 0, 0, 0, 0, 1, 0, 0, 0,\n",
       "       0, 0, 0, 1, 0, 0, 0, 1, 0, 0, 0, 0, 0, 0, 0, 0, 1, 0, 1, 0, 0, 0,\n",
       "       0, 0, 0, 0, 1, 0, 1, 1, 1, 1, 0, 0, 0, 0, 0, 0, 0, 0, 1, 0, 0, 0,\n",
       "       0, 0, 0, 0, 0, 0, 0, 0, 0, 0, 0, 0, 0, 0, 0, 0, 0, 0, 0, 0, 0, 0,\n",
       "       0, 0, 0, 0, 0, 1, 0, 0, 0, 1, 0, 0, 0, 0, 0, 0, 0, 0, 0, 1, 0, 0,\n",
       "       0, 0, 0, 0, 0, 0, 0, 0, 0, 0, 0, 0, 0, 0, 1, 0, 0, 0, 0, 0, 0, 0,\n",
       "       0, 0, 0, 0, 0, 0, 1, 0, 0, 0, 0, 0, 1, 1, 0, 0, 0, 0, 0, 0, 0, 0,\n",
       "       0, 0, 0, 0, 0, 0, 0, 0, 0, 0, 0, 0, 0, 0, 0, 0, 0, 0, 0, 0, 0, 0,\n",
       "       0, 0, 0, 0, 0, 0, 0, 0, 0, 0, 1, 0, 0, 1, 0, 0, 0, 0, 0, 0, 0, 0,\n",
       "       0, 1, 0, 0, 0, 0, 0, 0, 0, 0, 0, 0, 0, 0, 1, 0, 1, 0, 1, 0, 1, 0,\n",
       "       0, 1, 0, 0, 0, 0, 0, 0, 0, 1, 0, 0, 0, 0, 0, 0, 0, 1, 1, 0, 0, 0,\n",
       "       0, 0, 0, 0, 0, 0, 0, 0, 1, 0, 0, 0, 0, 0, 0, 0, 1, 0, 0, 0, 0, 0,\n",
       "       0, 1, 0, 0, 0, 1, 1, 0, 0, 0, 0, 1, 0, 1, 0, 0, 0, 0, 0, 0, 0, 1,\n",
       "       0, 0, 0, 0, 0, 0, 1, 0, 0, 0, 0, 0, 0, 0, 0, 0, 1, 0, 1, 0, 0, 0,\n",
       "       0, 0, 0, 0, 0, 0, 0, 0, 1, 0, 0, 0, 0, 0, 1, 0, 0, 0, 0, 0, 0, 0,\n",
       "       0, 0, 0, 0, 0, 1, 0, 0, 0, 0, 0, 0, 0, 0, 0, 0, 0, 0, 0, 0, 0, 0,\n",
       "       0, 0, 0, 0, 0, 0, 0, 0, 0, 0, 0, 0, 0, 0, 0, 0, 0, 0, 0, 1, 0, 1,\n",
       "       0, 0, 0, 0, 0, 0, 0, 0, 0, 1, 0, 0, 1, 0, 0, 0, 0, 0, 0, 0, 0, 0,\n",
       "       0, 0, 0, 0, 0, 0, 0, 0, 1, 0, 0, 1, 0, 0, 0, 0, 0, 0, 1, 0, 0, 0,\n",
       "       1, 0, 0, 0, 1, 0, 0, 0, 0, 0, 0, 1, 0, 0, 1, 0, 0, 0, 0, 0, 0, 1,\n",
       "       0, 0, 0, 0, 0, 0, 0, 0, 1, 0, 0, 0, 0, 0, 0, 0, 0, 0, 0, 1, 0, 0,\n",
       "       0, 0, 0, 0, 0, 1, 0, 0, 0, 0, 1, 0, 0, 1, 0, 0, 0, 0, 0, 0, 0, 0,\n",
       "       0, 0, 0, 0, 0, 0, 0, 0, 0, 0, 0, 0, 1, 1, 0, 0, 0, 0, 0, 0, 0, 0,\n",
       "       0, 0, 1, 0, 0, 0, 0, 0, 0, 0, 0, 1, 0, 1, 0, 1, 1, 1, 0, 0, 0, 0,\n",
       "       1, 1, 1, 0, 0, 0, 0, 0, 0, 0, 0, 1, 0, 1, 0, 0, 0, 0, 0, 0, 0, 0,\n",
       "       0, 0, 0, 0, 1, 0, 0, 0, 0, 0, 0, 0, 0, 1, 0, 0, 0, 0, 0, 0, 0, 0,\n",
       "       0, 0, 0, 0, 0, 0, 0, 0, 0, 0, 0, 0, 0, 0, 0, 0, 1, 1, 0, 0, 0, 0,\n",
       "       0, 1, 0, 0, 0, 0, 0, 0, 0, 0, 0, 0, 0, 0, 0, 0, 0, 0, 0, 1, 0, 0,\n",
       "       0, 0, 0, 0, 0, 1, 0, 0, 0, 1, 0, 0, 0, 0, 1, 0, 0, 0, 0, 0, 0, 0,\n",
       "       0, 0, 0, 0, 0, 0, 0, 0, 0, 0, 0, 0, 0, 0, 0, 0, 0, 0, 1, 0, 0, 1,\n",
       "       0, 0, 0, 0, 0, 0, 0, 0, 0, 0, 0, 0, 0, 0, 0, 0, 0, 0, 0, 0, 0, 0,\n",
       "       0, 0, 0, 0, 0, 0, 0, 0, 0, 0, 0, 0, 0, 0, 0, 0, 0, 0, 0, 0, 1, 0,\n",
       "       0, 0, 0, 0, 1, 1, 0, 0, 0, 0, 0, 0, 0, 0, 0, 1, 0, 0, 0, 0, 0, 0,\n",
       "       0, 0, 0, 0, 0, 1, 0, 1, 0, 0, 0, 0, 0, 0, 1, 0, 0, 0, 0, 0, 0, 0,\n",
       "       0, 0, 0, 1, 0, 0, 0, 0, 0, 0, 1, 0, 1, 0, 1, 0, 0, 0, 0, 0, 0, 0,\n",
       "       0, 0, 1, 1, 0, 0, 0, 0, 0, 1, 1, 0, 0, 0, 0, 0, 0, 0, 0, 0, 0, 0,\n",
       "       0, 1, 1, 1, 0, 1, 0, 0, 0, 0, 0, 0, 0, 0, 0, 0, 1, 1, 0, 0, 0, 0])"
      ]
     },
     "execution_count": 83,
     "metadata": {},
     "output_type": "execute_result"
    }
   ],
   "source": [
    "\n",
    "\n",
    "import numpy as np\n",
    "rounded_labels=np.argmax(Y_test, axis=1)\n",
    "rounded_labels\n",
    "\n"
   ]
  },
  {
   "cell_type": "code",
   "execution_count": 84,
   "id": "340d5b80",
   "metadata": {},
   "outputs": [
    {
     "data": {
      "text/plain": [
       "array([[727,   2],\n",
       "       [  6, 101]])"
      ]
     },
     "execution_count": 84,
     "metadata": {},
     "output_type": "execute_result"
    }
   ],
   "source": [
    "\n",
    "\n",
    "from sklearn.metrics import confusion_matrix\n",
    "cm = confusion_matrix(rounded_labels, yhat_classes)\n",
    "cm\n",
    "\n"
   ]
  },
  {
   "cell_type": "code",
   "execution_count": 85,
   "id": "04ba8a0f",
   "metadata": {},
   "outputs": [
    {
     "data": {
      "image/png": "[encoded data removed]",
      "text/plain": [
       "<Figure size 500x500 with 2 Axes>"
      ]
     },
     "metadata": {},
     "output_type": "display_data"
    }
   ],
   "source": [
    "\n",
    "\n",
    "# The confusion matrix\n",
    "from sklearn.metrics import confusion_matrix\n",
    "import seaborn as sns\n",
    "\n",
    "lstm_val = confusion_matrix(rounded_labels, yhat_classes)\n",
    "f, ax = plt.subplots(figsize=(5,5))\n",
    "sns.heatmap(lstm_val, annot=True, linewidth=0.7, linecolor='cyan', fmt='g', ax=ax, cmap=\"BuPu\")\n",
    "plt.title('LSTM Classification Confusion Matrix')\n",
    "plt.xlabel('Y predict')\n",
    "plt.ylabel('Y test')\n",
    "plt.show()\n",
    "\n"
   ]
  },
  {
   "cell_type": "code",
   "execution_count": 86,
   "id": "8c28c887",
   "metadata": {},
   "outputs": [
    {
     "name": "stdout",
     "output_type": "stream",
     "text": [
      "20/20 [==============================] - 0s 4ms/step - loss: 0.1169 - acc: 0.9890\n",
      "score: 0.12\n",
      "acc: 0.99\n"
     ]
    }
   ],
   "source": [
    "\n",
    "\n",
    "validation_size = 200\n",
    "\n",
    "X_validate = X_test[-validation_size:]\n",
    "Y_validate = Y_test[-validation_size:]\n",
    "X_test = X_test[:-validation_size]\n",
    "Y_test = Y_test[:-validation_size]\n",
    "score,acc = model.evaluate(X_test, Y_test, verbose = 1, batch_size = batch_size)\n",
    "\n",
    "print(\"score: %.2f\" % (score))\n",
    "print(\"acc: %.2f\" % (acc))\n",
    "\n"
   ]
  },
  {
   "cell_type": "code",
   "execution_count": 87,
   "id": "ace117c6",
   "metadata": {},
   "outputs": [],
   "source": [
    "model.save('Mymodel.h5')"
   ]
  },
  {
   "cell_type": "code",
   "execution_count": 88,
   "id": "e11c6f1d",
   "metadata": {},
   "outputs": [
    {
     "name": "stdout",
     "output_type": "stream",
     "text": [
      "1/1 [==============================] - 0s 23ms/step\n",
      "[[1.2103091e-08 1.0000000e+00]] spam\n"
     ]
    }
   ],
   "source": [
    "\n",
    "\n",
    "message = ['Congratulations! you have won a $1,000 Walmart gift card. Go to http://bit.ly/123456 to claim now.']\n",
    "seq = tokenizer.texts_to_sequences(message)\n",
    "\n",
    "padded = pad_sequences(seq, maxlen=X.shape[1], dtype='int32', value=0)\n",
    "\n",
    "pred = model.predict(padded)\n",
    "\n",
    "labels = ['ham','spam']\n",
    "print(pred, labels[np.argmax(pred)])\n",
    "\n"
   ]
  },
  {
   "cell_type": "code",
   "execution_count": 89,
   "id": "957bfa9a",
   "metadata": {},
   "outputs": [
    {
     "name": "stdout",
     "output_type": "stream",
     "text": [
      "1/1 [==============================] - 0s 24ms/step\n",
      "[[1.00000e+00 9.18021e-12]] ham\n"
     ]
    }
   ],
   "source": [
    "message = ['thanks for accepting my request to connect']\n",
    "seq = tokenizer.texts_to_sequences(message)\n",
    "\n",
    "padded = pad_sequences(seq, maxlen=X.shape[1], dtype='int32', value=0)\n",
    "\n",
    "pred = model.predict(padded)\n",
    "\n",
    "labels = ['ham','spam']\n",
    "print(pred, labels[np.argmax(pred)])"
   ]
  },
  {
   "cell_type": "code",
   "execution_count": null,
   "id": "e11e373e",
   "metadata": {},
   "outputs": [],
   "source": []
  }
 ],
 "metadata": {
  "kernelspec": {
   "display_name": "Python 3 (ipykernel)",
   "language": "python",
   "name": "python3"
  },
  "language_info": {
   "codemirror_mode": {
    "name": "ipython",
    "version": 3
   },
   "file_extension": ".py",
   "mimetype": "text/x-python",
   "name": "python",
   "nbconvert_exporter": "python",
   "pygments_lexer": "ipython3",
   "version": "3.9.16"
  }
 },
 "nbformat": 4,
 "nbformat_minor": 5
}
